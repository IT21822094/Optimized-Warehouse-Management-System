{
  "nbformat": 4,
  "nbformat_minor": 0,
  "metadata": {
    "colab": {
      "provenance": [],
      "gpuType": "T4"
    },
    "kernelspec": {
      "name": "python3",
      "display_name": "Python 3"
    },
    "language_info": {
      "name": "python"
    },
    "accelerator": "GPU"
  },
  "cells": [
    {
      "cell_type": "code",
      "source": [
        "!pip install ultralytics"
      ],
      "metadata": {
        "colab": {
          "base_uri": "https://localhost:8080/"
        },
        "id": "gbx3Hb-j3I7z",
        "outputId": "2bc4c0bb-79c8-49a5-9701-4fc75c11923f"
      },
      "execution_count": 1,
      "outputs": [
        {
          "output_type": "stream",
          "name": "stdout",
          "text": [
            "Requirement already satisfied: ultralytics in /usr/local/lib/python3.11/dist-packages (8.3.101)\n",
            "Requirement already satisfied: numpy<=2.1.1,>=1.23.0 in /usr/local/lib/python3.11/dist-packages (from ultralytics) (2.0.2)\n",
            "Requirement already satisfied: matplotlib>=3.3.0 in /usr/local/lib/python3.11/dist-packages (from ultralytics) (3.10.0)\n",
            "Requirement already satisfied: opencv-python>=4.6.0 in /usr/local/lib/python3.11/dist-packages (from ultralytics) (4.11.0.86)\n",
            "Requirement already satisfied: pillow>=7.1.2 in /usr/local/lib/python3.11/dist-packages (from ultralytics) (11.1.0)\n",
            "Requirement already satisfied: pyyaml>=5.3.1 in /usr/local/lib/python3.11/dist-packages (from ultralytics) (6.0.2)\n",
            "Requirement already satisfied: requests>=2.23.0 in /usr/local/lib/python3.11/dist-packages (from ultralytics) (2.32.3)\n",
            "Requirement already satisfied: scipy>=1.4.1 in /usr/local/lib/python3.11/dist-packages (from ultralytics) (1.14.1)\n",
            "Requirement already satisfied: torch>=1.8.0 in /usr/local/lib/python3.11/dist-packages (from ultralytics) (2.6.0+cu124)\n",
            "Requirement already satisfied: torchvision>=0.9.0 in /usr/local/lib/python3.11/dist-packages (from ultralytics) (0.21.0+cu124)\n",
            "Requirement already satisfied: tqdm>=4.64.0 in /usr/local/lib/python3.11/dist-packages (from ultralytics) (4.67.1)\n",
            "Requirement already satisfied: psutil in /usr/local/lib/python3.11/dist-packages (from ultralytics) (5.9.5)\n",
            "Requirement already satisfied: py-cpuinfo in /usr/local/lib/python3.11/dist-packages (from ultralytics) (9.0.0)\n",
            "Requirement already satisfied: pandas>=1.1.4 in /usr/local/lib/python3.11/dist-packages (from ultralytics) (2.2.2)\n",
            "Requirement already satisfied: seaborn>=0.11.0 in /usr/local/lib/python3.11/dist-packages (from ultralytics) (0.13.2)\n",
            "Requirement already satisfied: ultralytics-thop>=2.0.0 in /usr/local/lib/python3.11/dist-packages (from ultralytics) (2.0.14)\n",
            "Requirement already satisfied: contourpy>=1.0.1 in /usr/local/lib/python3.11/dist-packages (from matplotlib>=3.3.0->ultralytics) (1.3.1)\n",
            "Requirement already satisfied: cycler>=0.10 in /usr/local/lib/python3.11/dist-packages (from matplotlib>=3.3.0->ultralytics) (0.12.1)\n",
            "Requirement already satisfied: fonttools>=4.22.0 in /usr/local/lib/python3.11/dist-packages (from matplotlib>=3.3.0->ultralytics) (4.56.0)\n",
            "Requirement already satisfied: kiwisolver>=1.3.1 in /usr/local/lib/python3.11/dist-packages (from matplotlib>=3.3.0->ultralytics) (1.4.8)\n",
            "Requirement already satisfied: packaging>=20.0 in /usr/local/lib/python3.11/dist-packages (from matplotlib>=3.3.0->ultralytics) (24.2)\n",
            "Requirement already satisfied: pyparsing>=2.3.1 in /usr/local/lib/python3.11/dist-packages (from matplotlib>=3.3.0->ultralytics) (3.2.3)\n",
            "Requirement already satisfied: python-dateutil>=2.7 in /usr/local/lib/python3.11/dist-packages (from matplotlib>=3.3.0->ultralytics) (2.8.2)\n",
            "Requirement already satisfied: pytz>=2020.1 in /usr/local/lib/python3.11/dist-packages (from pandas>=1.1.4->ultralytics) (2025.2)\n",
            "Requirement already satisfied: tzdata>=2022.7 in /usr/local/lib/python3.11/dist-packages (from pandas>=1.1.4->ultralytics) (2025.2)\n",
            "Requirement already satisfied: charset-normalizer<4,>=2 in /usr/local/lib/python3.11/dist-packages (from requests>=2.23.0->ultralytics) (3.4.1)\n",
            "Requirement already satisfied: idna<4,>=2.5 in /usr/local/lib/python3.11/dist-packages (from requests>=2.23.0->ultralytics) (3.7)\n",
            "Requirement already satisfied: urllib3<3,>=1.21.1 in /usr/local/lib/python3.11/dist-packages (from requests>=2.23.0->ultralytics) (2.3.0)\n",
            "Requirement already satisfied: certifi>=2017.4.17 in /usr/local/lib/python3.11/dist-packages (from requests>=2.23.0->ultralytics) (2025.1.31)\n",
            "Requirement already satisfied: filelock in /usr/local/lib/python3.11/dist-packages (from torch>=1.8.0->ultralytics) (3.18.0)\n",
            "Requirement already satisfied: typing-extensions>=4.10.0 in /usr/local/lib/python3.11/dist-packages (from torch>=1.8.0->ultralytics) (4.13.0)\n",
            "Requirement already satisfied: networkx in /usr/local/lib/python3.11/dist-packages (from torch>=1.8.0->ultralytics) (3.4.2)\n",
            "Requirement already satisfied: jinja2 in /usr/local/lib/python3.11/dist-packages (from torch>=1.8.0->ultralytics) (3.1.6)\n",
            "Requirement already satisfied: fsspec in /usr/local/lib/python3.11/dist-packages (from torch>=1.8.0->ultralytics) (2025.3.2)\n",
            "Requirement already satisfied: nvidia-cuda-nvrtc-cu12==12.4.127 in /usr/local/lib/python3.11/dist-packages (from torch>=1.8.0->ultralytics) (12.4.127)\n",
            "Requirement already satisfied: nvidia-cuda-runtime-cu12==12.4.127 in /usr/local/lib/python3.11/dist-packages (from torch>=1.8.0->ultralytics) (12.4.127)\n",
            "Requirement already satisfied: nvidia-cuda-cupti-cu12==12.4.127 in /usr/local/lib/python3.11/dist-packages (from torch>=1.8.0->ultralytics) (12.4.127)\n",
            "Requirement already satisfied: nvidia-cudnn-cu12==9.1.0.70 in /usr/local/lib/python3.11/dist-packages (from torch>=1.8.0->ultralytics) (9.1.0.70)\n",
            "Requirement already satisfied: nvidia-cublas-cu12==12.4.5.8 in /usr/local/lib/python3.11/dist-packages (from torch>=1.8.0->ultralytics) (12.4.5.8)\n",
            "Requirement already satisfied: nvidia-cufft-cu12==11.2.1.3 in /usr/local/lib/python3.11/dist-packages (from torch>=1.8.0->ultralytics) (11.2.1.3)\n",
            "Requirement already satisfied: nvidia-curand-cu12==10.3.5.147 in /usr/local/lib/python3.11/dist-packages (from torch>=1.8.0->ultralytics) (10.3.5.147)\n",
            "Requirement already satisfied: nvidia-cusolver-cu12==11.6.1.9 in /usr/local/lib/python3.11/dist-packages (from torch>=1.8.0->ultralytics) (11.6.1.9)\n",
            "Requirement already satisfied: nvidia-cusparse-cu12==12.3.1.170 in /usr/local/lib/python3.11/dist-packages (from torch>=1.8.0->ultralytics) (12.3.1.170)\n",
            "Requirement already satisfied: nvidia-cusparselt-cu12==0.6.2 in /usr/local/lib/python3.11/dist-packages (from torch>=1.8.0->ultralytics) (0.6.2)\n",
            "Requirement already satisfied: nvidia-nccl-cu12==2.21.5 in /usr/local/lib/python3.11/dist-packages (from torch>=1.8.0->ultralytics) (2.21.5)\n",
            "Requirement already satisfied: nvidia-nvtx-cu12==12.4.127 in /usr/local/lib/python3.11/dist-packages (from torch>=1.8.0->ultralytics) (12.4.127)\n",
            "Requirement already satisfied: nvidia-nvjitlink-cu12==12.4.127 in /usr/local/lib/python3.11/dist-packages (from torch>=1.8.0->ultralytics) (12.4.127)\n",
            "Requirement already satisfied: triton==3.2.0 in /usr/local/lib/python3.11/dist-packages (from torch>=1.8.0->ultralytics) (3.2.0)\n",
            "Requirement already satisfied: sympy==1.13.1 in /usr/local/lib/python3.11/dist-packages (from torch>=1.8.0->ultralytics) (1.13.1)\n",
            "Requirement already satisfied: mpmath<1.4,>=1.1.0 in /usr/local/lib/python3.11/dist-packages (from sympy==1.13.1->torch>=1.8.0->ultralytics) (1.3.0)\n",
            "Requirement already satisfied: six>=1.5 in /usr/local/lib/python3.11/dist-packages (from python-dateutil>=2.7->matplotlib>=3.3.0->ultralytics) (1.17.0)\n",
            "Requirement already satisfied: MarkupSafe>=2.0 in /usr/local/lib/python3.11/dist-packages (from jinja2->torch>=1.8.0->ultralytics) (3.0.2)\n"
          ]
        }
      ]
    },
    {
      "cell_type": "code",
      "execution_count": 4,
      "metadata": {
        "id": "4dcpr8NEkvcY"
      },
      "outputs": [],
      "source": [
        "from ultralytics import YOLO"
      ]
    },
    {
      "cell_type": "code",
      "source": [
        "!pip install roboflow"
      ],
      "metadata": {
        "colab": {
          "base_uri": "https://localhost:8080/"
        },
        "id": "l1wO_ao-lt-V",
        "outputId": "2b4f5fe5-8abb-4644-b8a1-23dc282e8388"
      },
      "execution_count": 5,
      "outputs": [
        {
          "output_type": "stream",
          "name": "stdout",
          "text": [
            "Requirement already satisfied: roboflow in /usr/local/lib/python3.11/dist-packages (1.1.60)\n",
            "Requirement already satisfied: certifi in /usr/local/lib/python3.11/dist-packages (from roboflow) (2025.1.31)\n",
            "Requirement already satisfied: idna==3.7 in /usr/local/lib/python3.11/dist-packages (from roboflow) (3.7)\n",
            "Requirement already satisfied: cycler in /usr/local/lib/python3.11/dist-packages (from roboflow) (0.12.1)\n",
            "Requirement already satisfied: kiwisolver>=1.3.1 in /usr/local/lib/python3.11/dist-packages (from roboflow) (1.4.8)\n",
            "Requirement already satisfied: matplotlib in /usr/local/lib/python3.11/dist-packages (from roboflow) (3.10.0)\n",
            "Requirement already satisfied: numpy>=1.18.5 in /usr/local/lib/python3.11/dist-packages (from roboflow) (2.0.2)\n",
            "Requirement already satisfied: opencv-python-headless==4.10.0.84 in /usr/local/lib/python3.11/dist-packages (from roboflow) (4.10.0.84)\n",
            "Requirement already satisfied: Pillow>=7.1.2 in /usr/local/lib/python3.11/dist-packages (from roboflow) (11.1.0)\n",
            "Requirement already satisfied: pillow-heif>=0.18.0 in /usr/local/lib/python3.11/dist-packages (from roboflow) (0.22.0)\n",
            "Requirement already satisfied: python-dateutil in /usr/local/lib/python3.11/dist-packages (from roboflow) (2.8.2)\n",
            "Requirement already satisfied: python-dotenv in /usr/local/lib/python3.11/dist-packages (from roboflow) (1.1.0)\n",
            "Requirement already satisfied: requests in /usr/local/lib/python3.11/dist-packages (from roboflow) (2.32.3)\n",
            "Requirement already satisfied: six in /usr/local/lib/python3.11/dist-packages (from roboflow) (1.17.0)\n",
            "Requirement already satisfied: urllib3>=1.26.6 in /usr/local/lib/python3.11/dist-packages (from roboflow) (2.3.0)\n",
            "Requirement already satisfied: tqdm>=4.41.0 in /usr/local/lib/python3.11/dist-packages (from roboflow) (4.67.1)\n",
            "Requirement already satisfied: PyYAML>=5.3.1 in /usr/local/lib/python3.11/dist-packages (from roboflow) (6.0.2)\n",
            "Requirement already satisfied: requests-toolbelt in /usr/local/lib/python3.11/dist-packages (from roboflow) (1.0.0)\n",
            "Requirement already satisfied: filetype in /usr/local/lib/python3.11/dist-packages (from roboflow) (1.2.0)\n",
            "Requirement already satisfied: contourpy>=1.0.1 in /usr/local/lib/python3.11/dist-packages (from matplotlib->roboflow) (1.3.1)\n",
            "Requirement already satisfied: fonttools>=4.22.0 in /usr/local/lib/python3.11/dist-packages (from matplotlib->roboflow) (4.56.0)\n",
            "Requirement already satisfied: packaging>=20.0 in /usr/local/lib/python3.11/dist-packages (from matplotlib->roboflow) (24.2)\n",
            "Requirement already satisfied: pyparsing>=2.3.1 in /usr/local/lib/python3.11/dist-packages (from matplotlib->roboflow) (3.2.3)\n",
            "Requirement already satisfied: charset-normalizer<4,>=2 in /usr/local/lib/python3.11/dist-packages (from requests->roboflow) (3.4.1)\n"
          ]
        }
      ]
    },
    {
      "cell_type": "code",
      "source": [
        "from roboflow import Roboflow\n",
        "rf = Roboflow(api_key=\"mQkB7HoQJGcIPhFY72LA\")\n",
        "project = rf.workspace(\"fire-detection\").project(\"fire-detection-data-pre\")\n",
        "version = project.version(4)\n",
        "dataset = version.download(\"yolov8\")"
      ],
      "metadata": {
        "colab": {
          "base_uri": "https://localhost:8080/"
        },
        "id": "SeSAbbl23U6X",
        "outputId": "cc8ed51c-3ca3-4549-e2cb-8c0f2d3df8c2"
      },
      "execution_count": 6,
      "outputs": [
        {
          "output_type": "stream",
          "name": "stdout",
          "text": [
            "loading Roboflow workspace...\n",
            "loading Roboflow project...\n"
          ]
        },
        {
          "output_type": "stream",
          "name": "stderr",
          "text": [
            "Downloading Dataset Version Zip in fire-detection-data-pre-4 to yolov8:: 100%|██████████| 49020/49020 [00:01<00:00, 29797.65it/s]"
          ]
        },
        {
          "output_type": "stream",
          "name": "stdout",
          "text": [
            "\n"
          ]
        },
        {
          "output_type": "stream",
          "name": "stderr",
          "text": [
            "\n",
            "Extracting Dataset Version Zip to fire-detection-data-pre-4 in yolov8:: 100%|██████████| 4012/4012 [00:00<00:00, 4256.75it/s]\n"
          ]
        }
      ]
    },
    {
      "cell_type": "code",
      "source": [
        "model = YOLO('yolov8m.pt')\n",
        "\n",
        "# Start training\n",
        "model.train(\n",
        "    data='/content/fire-detection-data-pre-4/data.yaml',\n",
        "    epochs=20,\n",
        "    imgsz=640,\n",
        "    batch=16,\n",
        "    patience=20,\n",
        "    name='yolov8l_fire_detection'\n",
        ")"
      ],
      "metadata": {
        "id": "X7Npd7M8l2sa",
        "colab": {
          "base_uri": "https://localhost:8080/"
        },
        "outputId": "0659dbd2-f397-47e0-9724-efdac5ea52b8"
      },
      "execution_count": 7,
      "outputs": [
        {
          "output_type": "stream",
          "name": "stdout",
          "text": [
            "Downloading https://github.com/ultralytics/assets/releases/download/v8.3.0/yolov8m.pt to 'yolov8m.pt'...\n"
          ]
        },
        {
          "output_type": "stream",
          "name": "stderr",
          "text": [
            "100%|██████████| 49.7M/49.7M [00:00<00:00, 294MB/s]\n"
          ]
        },
        {
          "output_type": "stream",
          "name": "stdout",
          "text": [
            "Ultralytics 8.3.101 🚀 Python-3.11.11 torch-2.6.0+cu124 CUDA:0 (Tesla T4, 15095MiB)\n",
            "\u001b[34m\u001b[1mengine/trainer: \u001b[0mtask=detect, mode=train, model=yolov8m.pt, data=/content/fire-detection-data-pre-4/data.yaml, epochs=20, time=None, patience=20, batch=16, imgsz=640, save=True, save_period=-1, cache=False, device=None, workers=8, project=None, name=yolov8l_fire_detection, exist_ok=False, pretrained=True, optimizer=auto, verbose=True, seed=0, deterministic=True, single_cls=False, rect=False, cos_lr=False, close_mosaic=10, resume=False, amp=True, fraction=1.0, profile=False, freeze=None, multi_scale=False, overlap_mask=True, mask_ratio=4, dropout=0.0, val=True, split=val, save_json=False, save_hybrid=False, conf=None, iou=0.7, max_det=300, half=False, dnn=False, plots=True, source=None, vid_stride=1, stream_buffer=False, visualize=False, augment=False, agnostic_nms=False, classes=None, retina_masks=False, embed=None, show=False, save_frames=False, save_txt=False, save_conf=False, save_crop=False, show_labels=True, show_conf=True, show_boxes=True, line_width=None, format=torchscript, keras=False, optimize=False, int8=False, dynamic=False, simplify=True, opset=None, workspace=None, nms=False, lr0=0.01, lrf=0.01, momentum=0.937, weight_decay=0.0005, warmup_epochs=3.0, warmup_momentum=0.8, warmup_bias_lr=0.1, box=7.5, cls=0.5, dfl=1.5, pose=12.0, kobj=1.0, nbs=64, hsv_h=0.015, hsv_s=0.7, hsv_v=0.4, degrees=0.0, translate=0.1, scale=0.5, shear=0.0, perspective=0.0, flipud=0.0, fliplr=0.5, bgr=0.0, mosaic=1.0, mixup=0.0, copy_paste=0.0, copy_paste_mode=flip, auto_augment=randaugment, erasing=0.4, crop_fraction=1.0, cfg=None, tracker=botsort.yaml, save_dir=runs/detect/yolov8l_fire_detection\n",
            "Downloading https://ultralytics.com/assets/Arial.ttf to '/root/.config/Ultralytics/Arial.ttf'...\n"
          ]
        },
        {
          "output_type": "stream",
          "name": "stderr",
          "text": [
            "100%|██████████| 755k/755k [00:00<00:00, 21.0MB/s]\n"
          ]
        },
        {
          "output_type": "stream",
          "name": "stdout",
          "text": [
            "Overriding model.yaml nc=80 with nc=1\n",
            "\n",
            "                   from  n    params  module                                       arguments                     \n",
            "  0                  -1  1      1392  ultralytics.nn.modules.conv.Conv             [3, 48, 3, 2]                 \n",
            "  1                  -1  1     41664  ultralytics.nn.modules.conv.Conv             [48, 96, 3, 2]                \n",
            "  2                  -1  2    111360  ultralytics.nn.modules.block.C2f             [96, 96, 2, True]             \n",
            "  3                  -1  1    166272  ultralytics.nn.modules.conv.Conv             [96, 192, 3, 2]               \n",
            "  4                  -1  4    813312  ultralytics.nn.modules.block.C2f             [192, 192, 4, True]           \n",
            "  5                  -1  1    664320  ultralytics.nn.modules.conv.Conv             [192, 384, 3, 2]              \n",
            "  6                  -1  4   3248640  ultralytics.nn.modules.block.C2f             [384, 384, 4, True]           \n",
            "  7                  -1  1   1991808  ultralytics.nn.modules.conv.Conv             [384, 576, 3, 2]              \n",
            "  8                  -1  2   3985920  ultralytics.nn.modules.block.C2f             [576, 576, 2, True]           \n",
            "  9                  -1  1    831168  ultralytics.nn.modules.block.SPPF            [576, 576, 5]                 \n",
            " 10                  -1  1         0  torch.nn.modules.upsampling.Upsample         [None, 2, 'nearest']          \n",
            " 11             [-1, 6]  1         0  ultralytics.nn.modules.conv.Concat           [1]                           \n",
            " 12                  -1  2   1993728  ultralytics.nn.modules.block.C2f             [960, 384, 2]                 \n",
            " 13                  -1  1         0  torch.nn.modules.upsampling.Upsample         [None, 2, 'nearest']          \n",
            " 14             [-1, 4]  1         0  ultralytics.nn.modules.conv.Concat           [1]                           \n",
            " 15                  -1  2    517632  ultralytics.nn.modules.block.C2f             [576, 192, 2]                 \n",
            " 16                  -1  1    332160  ultralytics.nn.modules.conv.Conv             [192, 192, 3, 2]              \n",
            " 17            [-1, 12]  1         0  ultralytics.nn.modules.conv.Concat           [1]                           \n",
            " 18                  -1  2   1846272  ultralytics.nn.modules.block.C2f             [576, 384, 2]                 \n",
            " 19                  -1  1   1327872  ultralytics.nn.modules.conv.Conv             [384, 384, 3, 2]              \n",
            " 20             [-1, 9]  1         0  ultralytics.nn.modules.conv.Concat           [1]                           \n",
            " 21                  -1  2   4207104  ultralytics.nn.modules.block.C2f             [960, 576, 2]                 \n",
            " 22        [15, 18, 21]  1   3776275  ultralytics.nn.modules.head.Detect           [1, [192, 384, 576]]          \n",
            "Model summary: 169 layers, 25,856,899 parameters, 25,856,883 gradients, 79.1 GFLOPs\n",
            "\n",
            "Transferred 469/475 items from pretrained weights\n",
            "\u001b[34m\u001b[1mTensorBoard: \u001b[0mStart with 'tensorboard --logdir runs/detect/yolov8l_fire_detection', view at http://localhost:6006/\n",
            "Freezing layer 'model.22.dfl.conv.weight'\n",
            "\u001b[34m\u001b[1mAMP: \u001b[0mrunning Automatic Mixed Precision (AMP) checks...\n",
            "Downloading https://github.com/ultralytics/assets/releases/download/v8.3.0/yolo11n.pt to 'yolo11n.pt'...\n"
          ]
        },
        {
          "output_type": "stream",
          "name": "stderr",
          "text": [
            "100%|██████████| 5.35M/5.35M [00:00<00:00, 113MB/s]\n"
          ]
        },
        {
          "output_type": "stream",
          "name": "stdout",
          "text": [
            "\u001b[34m\u001b[1mAMP: \u001b[0mchecks passed ✅\n"
          ]
        },
        {
          "output_type": "stream",
          "name": "stderr",
          "text": [
            "\u001b[34m\u001b[1mtrain: \u001b[0mScanning /content/fire-detection-data-pre-4/train/labels... 1402 images, 39 backgrounds, 0 corrupt: 100%|██████████| 1402/1402 [00:00<00:00, 2174.86it/s]"
          ]
        },
        {
          "output_type": "stream",
          "name": "stdout",
          "text": [
            "\u001b[34m\u001b[1mtrain: \u001b[0mNew cache created: /content/fire-detection-data-pre-4/train/labels.cache\n"
          ]
        },
        {
          "output_type": "stream",
          "name": "stderr",
          "text": [
            "\n"
          ]
        },
        {
          "output_type": "stream",
          "name": "stdout",
          "text": [
            "\u001b[34m\u001b[1malbumentations: \u001b[0mBlur(p=0.01, blur_limit=(3, 7)), MedianBlur(p=0.01, blur_limit=(3, 7)), ToGray(p=0.01, num_output_channels=3, method='weighted_average'), CLAHE(p=0.01, clip_limit=(1.0, 4.0), tile_grid_size=(8, 8))\n"
          ]
        },
        {
          "output_type": "stream",
          "name": "stderr",
          "text": [
            "\u001b[34m\u001b[1mval: \u001b[0mScanning /content/fire-detection-data-pre-4/valid/labels... 401 images, 12 backgrounds, 0 corrupt: 100%|██████████| 401/401 [00:00<00:00, 645.88it/s]\n"
          ]
        },
        {
          "output_type": "stream",
          "name": "stdout",
          "text": [
            "\u001b[34m\u001b[1mval: \u001b[0mNew cache created: /content/fire-detection-data-pre-4/valid/labels.cache\n",
            "Plotting labels to runs/detect/yolov8l_fire_detection/labels.jpg... \n",
            "\u001b[34m\u001b[1moptimizer:\u001b[0m 'optimizer=auto' found, ignoring 'lr0=0.01' and 'momentum=0.937' and determining best 'optimizer', 'lr0' and 'momentum' automatically... \n",
            "\u001b[34m\u001b[1moptimizer:\u001b[0m AdamW(lr=0.002, momentum=0.9) with parameter groups 77 weight(decay=0.0), 84 weight(decay=0.0005), 83 bias(decay=0.0)\n",
            "\u001b[34m\u001b[1mTensorBoard: \u001b[0mmodel graph visualization added ✅\n",
            "Image sizes 640 train, 640 val\n",
            "Using 2 dataloader workers\n",
            "Logging results to \u001b[1mruns/detect/yolov8l_fire_detection\u001b[0m\n",
            "Starting training for 20 epochs...\n",
            "\n",
            "      Epoch    GPU_mem   box_loss   cls_loss   dfl_loss  Instances       Size\n"
          ]
        },
        {
          "output_type": "stream",
          "name": "stderr",
          "text": [
            "       1/20      6.38G      1.903      2.614      1.999         26        640: 100%|██████████| 88/88 [00:47<00:00,  1.86it/s]\n",
            "                 Class     Images  Instances      Box(P          R      mAP50  mAP50-95): 100%|██████████| 13/13 [00:06<00:00,  1.98it/s]"
          ]
        },
        {
          "output_type": "stream",
          "name": "stdout",
          "text": [
            "                   all        401        647     0.0033      0.278    0.00226   0.000766\n"
          ]
        },
        {
          "output_type": "stream",
          "name": "stderr",
          "text": [
            "\n"
          ]
        },
        {
          "output_type": "stream",
          "name": "stdout",
          "text": [
            "\n",
            "      Epoch    GPU_mem   box_loss   cls_loss   dfl_loss  Instances       Size\n"
          ]
        },
        {
          "output_type": "stream",
          "name": "stderr",
          "text": [
            "       2/20      7.59G      2.071      2.477      2.101         39        640: 100%|██████████| 88/88 [00:46<00:00,  1.89it/s]\n",
            "                 Class     Images  Instances      Box(P          R      mAP50  mAP50-95): 100%|██████████| 13/13 [00:06<00:00,  2.07it/s]"
          ]
        },
        {
          "output_type": "stream",
          "name": "stdout",
          "text": [
            "                   all        401        647     0.0151     0.0726    0.00556    0.00186\n"
          ]
        },
        {
          "output_type": "stream",
          "name": "stderr",
          "text": [
            "\n"
          ]
        },
        {
          "output_type": "stream",
          "name": "stdout",
          "text": [
            "\n",
            "      Epoch    GPU_mem   box_loss   cls_loss   dfl_loss  Instances       Size\n"
          ]
        },
        {
          "output_type": "stream",
          "name": "stderr",
          "text": [
            "       3/20      7.66G      2.064      2.461      2.098         21        640: 100%|██████████| 88/88 [00:47<00:00,  1.85it/s]\n",
            "                 Class     Images  Instances      Box(P          R      mAP50  mAP50-95): 100%|██████████| 13/13 [00:06<00:00,  2.14it/s]"
          ]
        },
        {
          "output_type": "stream",
          "name": "stdout",
          "text": [
            "                   all        401        647      0.103      0.173     0.0549     0.0164\n"
          ]
        },
        {
          "output_type": "stream",
          "name": "stderr",
          "text": [
            "\n"
          ]
        },
        {
          "output_type": "stream",
          "name": "stdout",
          "text": [
            "\n",
            "      Epoch    GPU_mem   box_loss   cls_loss   dfl_loss  Instances       Size\n"
          ]
        },
        {
          "output_type": "stream",
          "name": "stderr",
          "text": [
            "       4/20      7.72G      2.034      2.359      2.057         20        640: 100%|██████████| 88/88 [00:47<00:00,  1.85it/s]\n",
            "                 Class     Images  Instances      Box(P          R      mAP50  mAP50-95): 100%|██████████| 13/13 [00:06<00:00,  2.04it/s]"
          ]
        },
        {
          "output_type": "stream",
          "name": "stdout",
          "text": [
            "                   all        401        647      0.206      0.294      0.166      0.057\n"
          ]
        },
        {
          "output_type": "stream",
          "name": "stderr",
          "text": [
            "\n"
          ]
        },
        {
          "output_type": "stream",
          "name": "stdout",
          "text": [
            "\n",
            "      Epoch    GPU_mem   box_loss   cls_loss   dfl_loss  Instances       Size\n"
          ]
        },
        {
          "output_type": "stream",
          "name": "stderr",
          "text": [
            "       5/20      7.79G      1.924      2.248      1.965         34        640: 100%|██████████| 88/88 [00:47<00:00,  1.87it/s]\n",
            "                 Class     Images  Instances      Box(P          R      mAP50  mAP50-95): 100%|██████████| 13/13 [00:06<00:00,  2.10it/s]"
          ]
        },
        {
          "output_type": "stream",
          "name": "stdout",
          "text": [
            "                   all        401        647      0.303      0.368      0.241      0.101\n"
          ]
        },
        {
          "output_type": "stream",
          "name": "stderr",
          "text": [
            "\n"
          ]
        },
        {
          "output_type": "stream",
          "name": "stdout",
          "text": [
            "\n",
            "      Epoch    GPU_mem   box_loss   cls_loss   dfl_loss  Instances       Size\n"
          ]
        },
        {
          "output_type": "stream",
          "name": "stderr",
          "text": [
            "       6/20      7.86G      1.902      2.195      1.935         20        640: 100%|██████████| 88/88 [00:47<00:00,  1.85it/s]\n",
            "                 Class     Images  Instances      Box(P          R      mAP50  mAP50-95): 100%|██████████| 13/13 [00:05<00:00,  2.30it/s]"
          ]
        },
        {
          "output_type": "stream",
          "name": "stdout",
          "text": [
            "                   all        401        647      0.348      0.311       0.26      0.101\n"
          ]
        },
        {
          "output_type": "stream",
          "name": "stderr",
          "text": [
            "\n"
          ]
        },
        {
          "output_type": "stream",
          "name": "stdout",
          "text": [
            "\n",
            "      Epoch    GPU_mem   box_loss   cls_loss   dfl_loss  Instances       Size\n"
          ]
        },
        {
          "output_type": "stream",
          "name": "stderr",
          "text": [
            "       7/20      7.92G      1.862      2.119      1.883         25        640: 100%|██████████| 88/88 [00:47<00:00,  1.86it/s]\n",
            "                 Class     Images  Instances      Box(P          R      mAP50  mAP50-95): 100%|██████████| 13/13 [00:06<00:00,  2.15it/s]"
          ]
        },
        {
          "output_type": "stream",
          "name": "stdout",
          "text": [
            "                   all        401        647       0.46       0.38      0.365      0.156\n"
          ]
        },
        {
          "output_type": "stream",
          "name": "stderr",
          "text": [
            "\n"
          ]
        },
        {
          "output_type": "stream",
          "name": "stdout",
          "text": [
            "\n",
            "      Epoch    GPU_mem   box_loss   cls_loss   dfl_loss  Instances       Size\n"
          ]
        },
        {
          "output_type": "stream",
          "name": "stderr",
          "text": [
            "       8/20      7.99G      1.849       2.07      1.872         20        640: 100%|██████████| 88/88 [00:47<00:00,  1.86it/s]\n",
            "                 Class     Images  Instances      Box(P          R      mAP50  mAP50-95): 100%|██████████| 13/13 [00:05<00:00,  2.31it/s]"
          ]
        },
        {
          "output_type": "stream",
          "name": "stdout",
          "text": [
            "                   all        401        647      0.366      0.382      0.336      0.149\n"
          ]
        },
        {
          "output_type": "stream",
          "name": "stderr",
          "text": [
            "\n"
          ]
        },
        {
          "output_type": "stream",
          "name": "stdout",
          "text": [
            "\n",
            "      Epoch    GPU_mem   box_loss   cls_loss   dfl_loss  Instances       Size\n"
          ]
        },
        {
          "output_type": "stream",
          "name": "stderr",
          "text": [
            "       9/20      8.06G      1.775      2.042      1.831         22        640: 100%|██████████| 88/88 [00:47<00:00,  1.85it/s]\n",
            "                 Class     Images  Instances      Box(P          R      mAP50  mAP50-95): 100%|██████████| 13/13 [00:05<00:00,  2.29it/s]"
          ]
        },
        {
          "output_type": "stream",
          "name": "stdout",
          "text": [
            "                   all        401        647      0.406       0.38      0.368      0.163\n"
          ]
        },
        {
          "output_type": "stream",
          "name": "stderr",
          "text": [
            "\n"
          ]
        },
        {
          "output_type": "stream",
          "name": "stdout",
          "text": [
            "\n",
            "      Epoch    GPU_mem   box_loss   cls_loss   dfl_loss  Instances       Size\n"
          ]
        },
        {
          "output_type": "stream",
          "name": "stderr",
          "text": [
            "      10/20      8.12G      1.776      1.965      1.829         26        640: 100%|██████████| 88/88 [00:47<00:00,  1.85it/s]\n",
            "                 Class     Images  Instances      Box(P          R      mAP50  mAP50-95): 100%|██████████| 13/13 [00:05<00:00,  2.19it/s]"
          ]
        },
        {
          "output_type": "stream",
          "name": "stdout",
          "text": [
            "                   all        401        647      0.454      0.456      0.405      0.173\n"
          ]
        },
        {
          "output_type": "stream",
          "name": "stderr",
          "text": [
            "\n"
          ]
        },
        {
          "output_type": "stream",
          "name": "stdout",
          "text": [
            "Closing dataloader mosaic\n",
            "\u001b[34m\u001b[1malbumentations: \u001b[0mBlur(p=0.01, blur_limit=(3, 7)), MedianBlur(p=0.01, blur_limit=(3, 7)), ToGray(p=0.01, num_output_channels=3, method='weighted_average'), CLAHE(p=0.01, clip_limit=(1.0, 4.0), tile_grid_size=(8, 8))\n",
            "\n",
            "      Epoch    GPU_mem   box_loss   cls_loss   dfl_loss  Instances       Size\n"
          ]
        },
        {
          "output_type": "stream",
          "name": "stderr",
          "text": [
            "      11/20      8.19G       1.81      2.016      1.895         13        640: 100%|██████████| 88/88 [00:48<00:00,  1.82it/s]\n",
            "                 Class     Images  Instances      Box(P          R      mAP50  mAP50-95): 100%|██████████| 13/13 [00:05<00:00,  2.17it/s]"
          ]
        },
        {
          "output_type": "stream",
          "name": "stdout",
          "text": [
            "                   all        401        647      0.389      0.424      0.389      0.185\n"
          ]
        },
        {
          "output_type": "stream",
          "name": "stderr",
          "text": [
            "\n"
          ]
        },
        {
          "output_type": "stream",
          "name": "stdout",
          "text": [
            "\n",
            "      Epoch    GPU_mem   box_loss   cls_loss   dfl_loss  Instances       Size\n"
          ]
        },
        {
          "output_type": "stream",
          "name": "stderr",
          "text": [
            "      12/20      8.26G      1.778      1.941      1.881         20        640: 100%|██████████| 88/88 [00:46<00:00,  1.88it/s]\n",
            "                 Class     Images  Instances      Box(P          R      mAP50  mAP50-95): 100%|██████████| 13/13 [00:06<00:00,  2.11it/s]"
          ]
        },
        {
          "output_type": "stream",
          "name": "stdout",
          "text": [
            "                   all        401        647      0.495      0.411      0.407      0.177\n"
          ]
        },
        {
          "output_type": "stream",
          "name": "stderr",
          "text": [
            "\n"
          ]
        },
        {
          "output_type": "stream",
          "name": "stdout",
          "text": [
            "\n",
            "      Epoch    GPU_mem   box_loss   cls_loss   dfl_loss  Instances       Size\n"
          ]
        },
        {
          "output_type": "stream",
          "name": "stderr",
          "text": [
            "      13/20      8.32G      1.785      1.862      1.858         10        640: 100%|██████████| 88/88 [00:47<00:00,  1.87it/s]\n",
            "                 Class     Images  Instances      Box(P          R      mAP50  mAP50-95): 100%|██████████| 13/13 [00:06<00:00,  2.12it/s]"
          ]
        },
        {
          "output_type": "stream",
          "name": "stdout",
          "text": [
            "                   all        401        647      0.474      0.419      0.424      0.205\n"
          ]
        },
        {
          "output_type": "stream",
          "name": "stderr",
          "text": [
            "\n"
          ]
        },
        {
          "output_type": "stream",
          "name": "stdout",
          "text": [
            "\n",
            "      Epoch    GPU_mem   box_loss   cls_loss   dfl_loss  Instances       Size\n"
          ]
        },
        {
          "output_type": "stream",
          "name": "stderr",
          "text": [
            "      14/20      8.39G       1.73       1.86      1.832         11        640: 100%|██████████| 88/88 [00:47<00:00,  1.86it/s]\n",
            "                 Class     Images  Instances      Box(P          R      mAP50  mAP50-95): 100%|██████████| 13/13 [00:05<00:00,  2.29it/s]"
          ]
        },
        {
          "output_type": "stream",
          "name": "stdout",
          "text": [
            "                   all        401        647      0.497      0.425      0.444      0.211\n"
          ]
        },
        {
          "output_type": "stream",
          "name": "stderr",
          "text": [
            "\n"
          ]
        },
        {
          "output_type": "stream",
          "name": "stdout",
          "text": [
            "\n",
            "      Epoch    GPU_mem   box_loss   cls_loss   dfl_loss  Instances       Size\n"
          ]
        },
        {
          "output_type": "stream",
          "name": "stderr",
          "text": [
            "      15/20      8.46G      1.731      1.797      1.822         18        640: 100%|██████████| 88/88 [00:47<00:00,  1.86it/s]\n",
            "                 Class     Images  Instances      Box(P          R      mAP50  mAP50-95): 100%|██████████| 13/13 [00:06<00:00,  2.12it/s]"
          ]
        },
        {
          "output_type": "stream",
          "name": "stdout",
          "text": [
            "                   all        401        647      0.465      0.467      0.464      0.223\n"
          ]
        },
        {
          "output_type": "stream",
          "name": "stderr",
          "text": [
            "\n"
          ]
        },
        {
          "output_type": "stream",
          "name": "stdout",
          "text": [
            "\n",
            "      Epoch    GPU_mem   box_loss   cls_loss   dfl_loss  Instances       Size\n"
          ]
        },
        {
          "output_type": "stream",
          "name": "stderr",
          "text": [
            "      16/20      8.52G      1.673      1.735      1.792         13        640: 100%|██████████| 88/88 [00:47<00:00,  1.87it/s]\n",
            "                 Class     Images  Instances      Box(P          R      mAP50  mAP50-95): 100%|██████████| 13/13 [00:05<00:00,  2.29it/s]"
          ]
        },
        {
          "output_type": "stream",
          "name": "stdout",
          "text": [
            "                   all        401        647      0.548      0.464      0.497      0.238\n"
          ]
        },
        {
          "output_type": "stream",
          "name": "stderr",
          "text": [
            "\n"
          ]
        },
        {
          "output_type": "stream",
          "name": "stdout",
          "text": [
            "\n",
            "      Epoch    GPU_mem   box_loss   cls_loss   dfl_loss  Instances       Size\n"
          ]
        },
        {
          "output_type": "stream",
          "name": "stderr",
          "text": [
            "      17/20      8.59G      1.658      1.717      1.789         13        640: 100%|██████████| 88/88 [00:47<00:00,  1.86it/s]\n",
            "                 Class     Images  Instances      Box(P          R      mAP50  mAP50-95): 100%|██████████| 13/13 [00:06<00:00,  2.16it/s]"
          ]
        },
        {
          "output_type": "stream",
          "name": "stdout",
          "text": [
            "                   all        401        647       0.49      0.495      0.481      0.229\n"
          ]
        },
        {
          "output_type": "stream",
          "name": "stderr",
          "text": [
            "\n"
          ]
        },
        {
          "output_type": "stream",
          "name": "stdout",
          "text": [
            "\n",
            "      Epoch    GPU_mem   box_loss   cls_loss   dfl_loss  Instances       Size\n"
          ]
        },
        {
          "output_type": "stream",
          "name": "stderr",
          "text": [
            "      18/20      8.66G      1.648      1.633      1.751         23        640: 100%|██████████| 88/88 [00:46<00:00,  1.88it/s]\n",
            "                 Class     Images  Instances      Box(P          R      mAP50  mAP50-95): 100%|██████████| 13/13 [00:05<00:00,  2.31it/s]"
          ]
        },
        {
          "output_type": "stream",
          "name": "stdout",
          "text": [
            "                   all        401        647      0.544      0.462      0.504      0.245\n"
          ]
        },
        {
          "output_type": "stream",
          "name": "stderr",
          "text": [
            "\n"
          ]
        },
        {
          "output_type": "stream",
          "name": "stdout",
          "text": [
            "\n",
            "      Epoch    GPU_mem   box_loss   cls_loss   dfl_loss  Instances       Size\n"
          ]
        },
        {
          "output_type": "stream",
          "name": "stderr",
          "text": [
            "      19/20      8.76G      1.614      1.624      1.751         11        640: 100%|██████████| 88/88 [00:47<00:00,  1.86it/s]\n",
            "                 Class     Images  Instances      Box(P          R      mAP50  mAP50-95): 100%|██████████| 13/13 [00:05<00:00,  2.21it/s]"
          ]
        },
        {
          "output_type": "stream",
          "name": "stdout",
          "text": [
            "                   all        401        647      0.557      0.512      0.535      0.264\n"
          ]
        },
        {
          "output_type": "stream",
          "name": "stderr",
          "text": [
            "\n"
          ]
        },
        {
          "output_type": "stream",
          "name": "stdout",
          "text": [
            "\n",
            "      Epoch    GPU_mem   box_loss   cls_loss   dfl_loss  Instances       Size\n"
          ]
        },
        {
          "output_type": "stream",
          "name": "stderr",
          "text": [
            "      20/20      8.89G      1.594      1.612      1.708         15        640: 100%|██████████| 88/88 [00:46<00:00,  1.87it/s]\n",
            "                 Class     Images  Instances      Box(P          R      mAP50  mAP50-95): 100%|██████████| 13/13 [00:06<00:00,  2.14it/s]"
          ]
        },
        {
          "output_type": "stream",
          "name": "stdout",
          "text": [
            "                   all        401        647      0.551      0.504       0.53      0.268\n"
          ]
        },
        {
          "output_type": "stream",
          "name": "stderr",
          "text": [
            "\n"
          ]
        },
        {
          "output_type": "stream",
          "name": "stdout",
          "text": [
            "\n",
            "20 epochs completed in 0.317 hours.\n",
            "Optimizer stripped from runs/detect/yolov8l_fire_detection/weights/last.pt, 52.0MB\n",
            "Optimizer stripped from runs/detect/yolov8l_fire_detection/weights/best.pt, 52.0MB\n",
            "\n",
            "Validating runs/detect/yolov8l_fire_detection/weights/best.pt...\n",
            "Ultralytics 8.3.101 🚀 Python-3.11.11 torch-2.6.0+cu124 CUDA:0 (Tesla T4, 15095MiB)\n",
            "Model summary (fused): 92 layers, 25,840,339 parameters, 0 gradients, 78.7 GFLOPs\n"
          ]
        },
        {
          "output_type": "stream",
          "name": "stderr",
          "text": [
            "                 Class     Images  Instances      Box(P          R      mAP50  mAP50-95): 100%|██████████| 13/13 [00:08<00:00,  1.59it/s]\n"
          ]
        },
        {
          "output_type": "stream",
          "name": "stdout",
          "text": [
            "                   all        401        647      0.552      0.504      0.531      0.268\n",
            "Speed: 0.3ms preprocess, 10.3ms inference, 0.0ms loss, 2.8ms postprocess per image\n",
            "Results saved to \u001b[1mruns/detect/yolov8l_fire_detection\u001b[0m\n"
          ]
        },
        {
          "output_type": "execute_result",
          "data": {
            "text/plain": [
              "ultralytics.utils.metrics.DetMetrics object with attributes:\n",
              "\n",
              "ap_class_index: array([0])\n",
              "box: ultralytics.utils.metrics.Metric object\n",
              "confusion_matrix: <ultralytics.utils.metrics.ConfusionMatrix object at 0x7819b70dd190>\n",
              "curves: ['Precision-Recall(B)', 'F1-Confidence(B)', 'Precision-Confidence(B)', 'Recall-Confidence(B)']\n",
              "curves_results: [[array([          0,    0.001001,    0.002002,    0.003003,    0.004004,    0.005005,    0.006006,    0.007007,    0.008008,    0.009009,     0.01001,    0.011011,    0.012012,    0.013013,    0.014014,    0.015015,    0.016016,    0.017017,    0.018018,    0.019019,     0.02002,    0.021021,    0.022022,    0.023023,\n",
              "          0.024024,    0.025025,    0.026026,    0.027027,    0.028028,    0.029029,     0.03003,    0.031031,    0.032032,    0.033033,    0.034034,    0.035035,    0.036036,    0.037037,    0.038038,    0.039039,     0.04004,    0.041041,    0.042042,    0.043043,    0.044044,    0.045045,    0.046046,    0.047047,\n",
              "          0.048048,    0.049049,     0.05005,    0.051051,    0.052052,    0.053053,    0.054054,    0.055055,    0.056056,    0.057057,    0.058058,    0.059059,     0.06006,    0.061061,    0.062062,    0.063063,    0.064064,    0.065065,    0.066066,    0.067067,    0.068068,    0.069069,     0.07007,    0.071071,\n",
              "          0.072072,    0.073073,    0.074074,    0.075075,    0.076076,    0.077077,    0.078078,    0.079079,     0.08008,    0.081081,    0.082082,    0.083083,    0.084084,    0.085085,    0.086086,    0.087087,    0.088088,    0.089089,     0.09009,    0.091091,    0.092092,    0.093093,    0.094094,    0.095095,\n",
              "          0.096096,    0.097097,    0.098098,    0.099099,      0.1001,      0.1011,      0.1021,      0.1031,      0.1041,     0.10511,     0.10611,     0.10711,     0.10811,     0.10911,     0.11011,     0.11111,     0.11211,     0.11311,     0.11411,     0.11512,     0.11612,     0.11712,     0.11812,     0.11912,\n",
              "           0.12012,     0.12112,     0.12212,     0.12312,     0.12412,     0.12513,     0.12613,     0.12713,     0.12813,     0.12913,     0.13013,     0.13113,     0.13213,     0.13313,     0.13413,     0.13514,     0.13614,     0.13714,     0.13814,     0.13914,     0.14014,     0.14114,     0.14214,     0.14314,\n",
              "           0.14414,     0.14515,     0.14615,     0.14715,     0.14815,     0.14915,     0.15015,     0.15115,     0.15215,     0.15315,     0.15415,     0.15516,     0.15616,     0.15716,     0.15816,     0.15916,     0.16016,     0.16116,     0.16216,     0.16316,     0.16416,     0.16517,     0.16617,     0.16717,\n",
              "           0.16817,     0.16917,     0.17017,     0.17117,     0.17217,     0.17317,     0.17417,     0.17518,     0.17618,     0.17718,     0.17818,     0.17918,     0.18018,     0.18118,     0.18218,     0.18318,     0.18418,     0.18519,     0.18619,     0.18719,     0.18819,     0.18919,     0.19019,     0.19119,\n",
              "           0.19219,     0.19319,     0.19419,      0.1952,      0.1962,      0.1972,      0.1982,      0.1992,      0.2002,      0.2012,      0.2022,      0.2032,      0.2042,     0.20521,     0.20621,     0.20721,     0.20821,     0.20921,     0.21021,     0.21121,     0.21221,     0.21321,     0.21421,     0.21522,\n",
              "           0.21622,     0.21722,     0.21822,     0.21922,     0.22022,     0.22122,     0.22222,     0.22322,     0.22422,     0.22523,     0.22623,     0.22723,     0.22823,     0.22923,     0.23023,     0.23123,     0.23223,     0.23323,     0.23423,     0.23524,     0.23624,     0.23724,     0.23824,     0.23924,\n",
              "           0.24024,     0.24124,     0.24224,     0.24324,     0.24424,     0.24525,     0.24625,     0.24725,     0.24825,     0.24925,     0.25025,     0.25125,     0.25225,     0.25325,     0.25425,     0.25526,     0.25626,     0.25726,     0.25826,     0.25926,     0.26026,     0.26126,     0.26226,     0.26326,\n",
              "           0.26426,     0.26527,     0.26627,     0.26727,     0.26827,     0.26927,     0.27027,     0.27127,     0.27227,     0.27327,     0.27427,     0.27528,     0.27628,     0.27728,     0.27828,     0.27928,     0.28028,     0.28128,     0.28228,     0.28328,     0.28428,     0.28529,     0.28629,     0.28729,\n",
              "           0.28829,     0.28929,     0.29029,     0.29129,     0.29229,     0.29329,     0.29429,      0.2953,      0.2963,      0.2973,      0.2983,      0.2993,      0.3003,      0.3013,      0.3023,      0.3033,      0.3043,     0.30531,     0.30631,     0.30731,     0.30831,     0.30931,     0.31031,     0.31131,\n",
              "           0.31231,     0.31331,     0.31431,     0.31532,     0.31632,     0.31732,     0.31832,     0.31932,     0.32032,     0.32132,     0.32232,     0.32332,     0.32432,     0.32533,     0.32633,     0.32733,     0.32833,     0.32933,     0.33033,     0.33133,     0.33233,     0.33333,     0.33433,     0.33534,\n",
              "           0.33634,     0.33734,     0.33834,     0.33934,     0.34034,     0.34134,     0.34234,     0.34334,     0.34434,     0.34535,     0.34635,     0.34735,     0.34835,     0.34935,     0.35035,     0.35135,     0.35235,     0.35335,     0.35435,     0.35536,     0.35636,     0.35736,     0.35836,     0.35936,\n",
              "           0.36036,     0.36136,     0.36236,     0.36336,     0.36436,     0.36537,     0.36637,     0.36737,     0.36837,     0.36937,     0.37037,     0.37137,     0.37237,     0.37337,     0.37437,     0.37538,     0.37638,     0.37738,     0.37838,     0.37938,     0.38038,     0.38138,     0.38238,     0.38338,\n",
              "           0.38438,     0.38539,     0.38639,     0.38739,     0.38839,     0.38939,     0.39039,     0.39139,     0.39239,     0.39339,     0.39439,      0.3954,      0.3964,      0.3974,      0.3984,      0.3994,      0.4004,      0.4014,      0.4024,      0.4034,      0.4044,     0.40541,     0.40641,     0.40741,\n",
              "           0.40841,     0.40941,     0.41041,     0.41141,     0.41241,     0.41341,     0.41441,     0.41542,     0.41642,     0.41742,     0.41842,     0.41942,     0.42042,     0.42142,     0.42242,     0.42342,     0.42442,     0.42543,     0.42643,     0.42743,     0.42843,     0.42943,     0.43043,     0.43143,\n",
              "           0.43243,     0.43343,     0.43443,     0.43544,     0.43644,     0.43744,     0.43844,     0.43944,     0.44044,     0.44144,     0.44244,     0.44344,     0.44444,     0.44545,     0.44645,     0.44745,     0.44845,     0.44945,     0.45045,     0.45145,     0.45245,     0.45345,     0.45445,     0.45546,\n",
              "           0.45646,     0.45746,     0.45846,     0.45946,     0.46046,     0.46146,     0.46246,     0.46346,     0.46446,     0.46547,     0.46647,     0.46747,     0.46847,     0.46947,     0.47047,     0.47147,     0.47247,     0.47347,     0.47447,     0.47548,     0.47648,     0.47748,     0.47848,     0.47948,\n",
              "           0.48048,     0.48148,     0.48248,     0.48348,     0.48448,     0.48549,     0.48649,     0.48749,     0.48849,     0.48949,     0.49049,     0.49149,     0.49249,     0.49349,     0.49449,      0.4955,      0.4965,      0.4975,      0.4985,      0.4995,      0.5005,      0.5015,      0.5025,      0.5035,\n",
              "            0.5045,     0.50551,     0.50651,     0.50751,     0.50851,     0.50951,     0.51051,     0.51151,     0.51251,     0.51351,     0.51451,     0.51552,     0.51652,     0.51752,     0.51852,     0.51952,     0.52052,     0.52152,     0.52252,     0.52352,     0.52452,     0.52553,     0.52653,     0.52753,\n",
              "           0.52853,     0.52953,     0.53053,     0.53153,     0.53253,     0.53353,     0.53453,     0.53554,     0.53654,     0.53754,     0.53854,     0.53954,     0.54054,     0.54154,     0.54254,     0.54354,     0.54454,     0.54555,     0.54655,     0.54755,     0.54855,     0.54955,     0.55055,     0.55155,\n",
              "           0.55255,     0.55355,     0.55455,     0.55556,     0.55656,     0.55756,     0.55856,     0.55956,     0.56056,     0.56156,     0.56256,     0.56356,     0.56456,     0.56557,     0.56657,     0.56757,     0.56857,     0.56957,     0.57057,     0.57157,     0.57257,     0.57357,     0.57457,     0.57558,\n",
              "           0.57658,     0.57758,     0.57858,     0.57958,     0.58058,     0.58158,     0.58258,     0.58358,     0.58458,     0.58559,     0.58659,     0.58759,     0.58859,     0.58959,     0.59059,     0.59159,     0.59259,     0.59359,     0.59459,      0.5956,      0.5966,      0.5976,      0.5986,      0.5996,\n",
              "            0.6006,      0.6016,      0.6026,      0.6036,      0.6046,     0.60561,     0.60661,     0.60761,     0.60861,     0.60961,     0.61061,     0.61161,     0.61261,     0.61361,     0.61461,     0.61562,     0.61662,     0.61762,     0.61862,     0.61962,     0.62062,     0.62162,     0.62262,     0.62362,\n",
              "           0.62462,     0.62563,     0.62663,     0.62763,     0.62863,     0.62963,     0.63063,     0.63163,     0.63263,     0.63363,     0.63463,     0.63564,     0.63664,     0.63764,     0.63864,     0.63964,     0.64064,     0.64164,     0.64264,     0.64364,     0.64464,     0.64565,     0.64665,     0.64765,\n",
              "           0.64865,     0.64965,     0.65065,     0.65165,     0.65265,     0.65365,     0.65465,     0.65566,     0.65666,     0.65766,     0.65866,     0.65966,     0.66066,     0.66166,     0.66266,     0.66366,     0.66466,     0.66567,     0.66667,     0.66767,     0.66867,     0.66967,     0.67067,     0.67167,\n",
              "           0.67267,     0.67367,     0.67467,     0.67568,     0.67668,     0.67768,     0.67868,     0.67968,     0.68068,     0.68168,     0.68268,     0.68368,     0.68468,     0.68569,     0.68669,     0.68769,     0.68869,     0.68969,     0.69069,     0.69169,     0.69269,     0.69369,     0.69469,      0.6957,\n",
              "            0.6967,      0.6977,      0.6987,      0.6997,      0.7007,      0.7017,      0.7027,      0.7037,      0.7047,     0.70571,     0.70671,     0.70771,     0.70871,     0.70971,     0.71071,     0.71171,     0.71271,     0.71371,     0.71471,     0.71572,     0.71672,     0.71772,     0.71872,     0.71972,\n",
              "           0.72072,     0.72172,     0.72272,     0.72372,     0.72472,     0.72573,     0.72673,     0.72773,     0.72873,     0.72973,     0.73073,     0.73173,     0.73273,     0.73373,     0.73473,     0.73574,     0.73674,     0.73774,     0.73874,     0.73974,     0.74074,     0.74174,     0.74274,     0.74374,\n",
              "           0.74474,     0.74575,     0.74675,     0.74775,     0.74875,     0.74975,     0.75075,     0.75175,     0.75275,     0.75375,     0.75475,     0.75576,     0.75676,     0.75776,     0.75876,     0.75976,     0.76076,     0.76176,     0.76276,     0.76376,     0.76476,     0.76577,     0.76677,     0.76777,\n",
              "           0.76877,     0.76977,     0.77077,     0.77177,     0.77277,     0.77377,     0.77477,     0.77578,     0.77678,     0.77778,     0.77878,     0.77978,     0.78078,     0.78178,     0.78278,     0.78378,     0.78478,     0.78579,     0.78679,     0.78779,     0.78879,     0.78979,     0.79079,     0.79179,\n",
              "           0.79279,     0.79379,     0.79479,      0.7958,      0.7968,      0.7978,      0.7988,      0.7998,      0.8008,      0.8018,      0.8028,      0.8038,      0.8048,     0.80581,     0.80681,     0.80781,     0.80881,     0.80981,     0.81081,     0.81181,     0.81281,     0.81381,     0.81481,     0.81582,\n",
              "           0.81682,     0.81782,     0.81882,     0.81982,     0.82082,     0.82182,     0.82282,     0.82382,     0.82482,     0.82583,     0.82683,     0.82783,     0.82883,     0.82983,     0.83083,     0.83183,     0.83283,     0.83383,     0.83483,     0.83584,     0.83684,     0.83784,     0.83884,     0.83984,\n",
              "           0.84084,     0.84184,     0.84284,     0.84384,     0.84484,     0.84585,     0.84685,     0.84785,     0.84885,     0.84985,     0.85085,     0.85185,     0.85285,     0.85385,     0.85485,     0.85586,     0.85686,     0.85786,     0.85886,     0.85986,     0.86086,     0.86186,     0.86286,     0.86386,\n",
              "           0.86486,     0.86587,     0.86687,     0.86787,     0.86887,     0.86987,     0.87087,     0.87187,     0.87287,     0.87387,     0.87487,     0.87588,     0.87688,     0.87788,     0.87888,     0.87988,     0.88088,     0.88188,     0.88288,     0.88388,     0.88488,     0.88589,     0.88689,     0.88789,\n",
              "           0.88889,     0.88989,     0.89089,     0.89189,     0.89289,     0.89389,     0.89489,      0.8959,      0.8969,      0.8979,      0.8989,      0.8999,      0.9009,      0.9019,      0.9029,      0.9039,      0.9049,     0.90591,     0.90691,     0.90791,     0.90891,     0.90991,     0.91091,     0.91191,\n",
              "           0.91291,     0.91391,     0.91491,     0.91592,     0.91692,     0.91792,     0.91892,     0.91992,     0.92092,     0.92192,     0.92292,     0.92392,     0.92492,     0.92593,     0.92693,     0.92793,     0.92893,     0.92993,     0.93093,     0.93193,     0.93293,     0.93393,     0.93493,     0.93594,\n",
              "           0.93694,     0.93794,     0.93894,     0.93994,     0.94094,     0.94194,     0.94294,     0.94394,     0.94494,     0.94595,     0.94695,     0.94795,     0.94895,     0.94995,     0.95095,     0.95195,     0.95295,     0.95395,     0.95495,     0.95596,     0.95696,     0.95796,     0.95896,     0.95996,\n",
              "           0.96096,     0.96196,     0.96296,     0.96396,     0.96496,     0.96597,     0.96697,     0.96797,     0.96897,     0.96997,     0.97097,     0.97197,     0.97297,     0.97397,     0.97497,     0.97598,     0.97698,     0.97798,     0.97898,     0.97998,     0.98098,     0.98198,     0.98298,     0.98398,\n",
              "           0.98498,     0.98599,     0.98699,     0.98799,     0.98899,     0.98999,     0.99099,     0.99199,     0.99299,     0.99399,     0.99499,       0.996,       0.997,       0.998,       0.999,           1]), array([[          1,           1,           1,           1,           1,           1,           1,           1,       0.975,       0.975,       0.975,       0.975,       0.975,       0.975,       0.975,       0.975,       0.975,       0.975,       0.975,       0.975,       0.975,       0.975,       0.975,\n",
              "              0.975,       0.975,       0.975,       0.975,       0.975,       0.975,       0.975,       0.975,       0.975,       0.975,       0.975,       0.975,       0.975,       0.975,       0.975,       0.975,       0.975,       0.975,       0.975,       0.975,       0.975,       0.975,       0.975,\n",
              "              0.975,       0.975,       0.975,       0.975,       0.975,       0.975,       0.975,       0.975,       0.975,       0.975,       0.975,       0.975,       0.975,       0.975,       0.975,     0.96154,     0.96154,     0.96154,     0.96154,     0.96154,     0.96154,     0.96154,     0.96154,\n",
              "            0.96154,     0.96154,     0.96154,     0.96154,     0.96154,     0.96154,     0.96154,     0.96154,     0.96154,     0.94737,     0.94737,     0.94737,     0.94737,     0.94737,     0.94737,      0.9322,     0.91803,     0.91803,     0.89655,     0.89655,     0.89655,     0.89655,     0.89655,\n",
              "            0.89655,     0.89655,     0.89655,     0.89655,     0.89655,     0.89655,     0.89655,     0.89655,     0.89655,     0.89655,     0.89655,     0.89655,     0.89655,     0.89655,     0.89655,     0.89655,     0.89655,     0.89655,     0.89655,     0.89655,     0.89655,     0.89655,     0.89655,\n",
              "            0.89655,     0.89655,     0.89655,     0.89655,     0.89655,     0.89655,     0.89362,     0.89362,     0.89362,     0.89362,     0.89362,     0.89362,     0.89362,     0.89362,     0.89362,      0.8932,      0.8932,      0.8932,      0.8932,      0.8932,      0.8932,      0.8932,      0.8932,\n",
              "             0.8932,      0.8932,      0.8932,      0.8932,      0.8932,     0.88889,     0.88889,     0.88889,     0.88889,     0.88889,     0.88889,     0.88182,       0.875,       0.875,     0.86111,     0.86111,     0.86111,     0.86111,     0.86111,     0.86111,     0.86111,     0.86111,     0.86111,\n",
              "            0.86111,     0.86111,     0.86111,     0.86111,     0.86111,     0.86111,     0.86111,     0.86111,     0.86111,     0.86111,     0.86111,     0.86111,     0.86111,     0.86111,     0.86111,     0.86111,     0.86111,     0.86111,     0.86111,     0.86111,     0.86111,     0.86111,     0.86111,\n",
              "            0.86111,     0.86111,     0.86111,     0.86111,     0.86111,     0.86111,     0.86111,     0.86111,     0.85616,     0.85616,     0.83974,     0.83974,     0.83974,     0.83974,     0.83974,     0.83974,     0.83974,     0.83974,     0.83974,      0.8323,      0.8323,      0.8323,      0.8323,\n",
              "            0.82822,     0.82822,      0.8253,      0.8253,      0.8253,     0.82456,     0.82456,     0.82456,     0.82456,     0.82456,     0.82456,     0.81609,     0.81609,     0.81006,     0.81006,     0.81006,     0.81006,     0.80978,     0.80978,     0.80978,     0.80978,     0.80978,     0.80978,\n",
              "            0.80978,     0.80851,     0.80851,     0.80851,     0.80851,     0.80208,     0.80208,     0.80208,     0.80102,     0.80102,     0.80102,     0.80102,     0.80102,     0.79798,       0.795,       0.795,     0.79208,     0.79208,     0.79126,     0.79126,     0.79126,     0.79126,     0.79048,\n",
              "            0.79048,     0.79048,     0.79048,     0.79048,     0.78539,     0.78539,     0.78539,     0.78539,     0.78539,     0.78539,     0.78539,     0.78539,     0.78539,     0.78319,     0.78319,     0.78319,     0.78319,     0.78319,     0.78319,     0.78319,     0.78319,     0.77489,     0.77489,\n",
              "            0.77489,     0.77311,     0.77311,     0.77311,     0.77311,     0.77311,     0.77311,     0.77311,     0.77311,     0.77178,     0.77178,     0.77178,     0.77049,     0.77049,     0.77049,     0.76518,      0.7619,      0.7619,      0.7619,      0.7619,      0.7619,     0.76078,     0.76078,\n",
              "            0.76078,     0.75676,     0.75676,     0.75676,     0.75479,     0.75479,        0.75,     0.74908,     0.74908,     0.74908,     0.74908,     0.74908,     0.74908,     0.74908,     0.74908,     0.74725,     0.74545,     0.74545,     0.74101,     0.74101,     0.73665,     0.73498,     0.73498,\n",
              "            0.73077,     0.72917,     0.72917,     0.72759,     0.72603,     0.72603,     0.71667,     0.71667,     0.71667,     0.71667,     0.71382,     0.71382,     0.71382,     0.71382,     0.70846,     0.70846,     0.70846,     0.70846,     0.70846,     0.70846,     0.70846,     0.70846,     0.70846,\n",
              "            0.70846,     0.70846,     0.70846,     0.70846,     0.70717,     0.70717,     0.70606,     0.70606,     0.70606,     0.70606,     0.70606,     0.70606,     0.70606,     0.70606,     0.70606,     0.69643,     0.69643,     0.69412,     0.69412,     0.69412,     0.69298,     0.69186,     0.69186,\n",
              "            0.68571,     0.68571,     0.68571,     0.68466,     0.68466,     0.68362,     0.68347,     0.68347,     0.68347,     0.68333,     0.68333,     0.68333,     0.67209,     0.67209,     0.67209,     0.67116,     0.67116,     0.67112,     0.67112,     0.67112,     0.66931,     0.66931,     0.66931,\n",
              "             0.6658,      0.6658,      0.6658,     0.65979,     0.65979,     0.65816,     0.65816,     0.65816,     0.65743,     0.65743,     0.65743,     0.65743,     0.65664,     0.65664,     0.65602,     0.65602,     0.65602,     0.65602,     0.65602,     0.65602,     0.65602,     0.65602,     0.65526,\n",
              "             0.6545,      0.6545,      0.6506,     0.64988,     0.64988,     0.64455,     0.64085,     0.64085,     0.63889,     0.63889,     0.63889,     0.63889,     0.63889,     0.63678,      0.6347,      0.6347,     0.63122,       0.625,       0.625,     0.62444,     0.62389,     0.62389,     0.61884,\n",
              "            0.61884,     0.61884,     0.61884,     0.61884,     0.61884,     0.61884,     0.61884,     0.61884,     0.61884,     0.61884,     0.61783,     0.61783,     0.61783,     0.61734,     0.61297,     0.61297,     0.60905,     0.60905,     0.60905,     0.60905,     0.60905,     0.60526,     0.60526,\n",
              "            0.60526,     0.60526,     0.60241,     0.60241,     0.59841,     0.59295,     0.59295,     0.59295,     0.58915,     0.58915,     0.58767,     0.58733,     0.58733,     0.58254,     0.58254,     0.57974,     0.57974,     0.57974,     0.57728,     0.57593,     0.57593,     0.57565,     0.57537,\n",
              "            0.57537,     0.57482,     0.57482,     0.57482,      0.5735,     0.57194,     0.57194,     0.57194,     0.57194,     0.56863,     0.56437,     0.56437,     0.56217,        0.56,        0.56,     0.55746,     0.55746,     0.55746,     0.55746,     0.55726,     0.55726,     0.55312,     0.55312,\n",
              "            0.55312,     0.55201,     0.55184,     0.55184,     0.54695,     0.54695,     0.54695,     0.54146,     0.54146,     0.54133,     0.53772,     0.53772,     0.53736,     0.53736,     0.53736,     0.53736,     0.53135,     0.53135,     0.52868,     0.52868,     0.52868,     0.52778,     0.52778,\n",
              "            0.52439,     0.52439,     0.52439,     0.52036,     0.51403,     0.51403,     0.51403,     0.51403,     0.51403,     0.51023,     0.50718,     0.50718,     0.50718,     0.50718,     0.50718,     0.50718,     0.50718,     0.50708,     0.50708,     0.50708,     0.50708,     0.50708,     0.50708,\n",
              "            0.50708,     0.50351,     0.50351,     0.50209,     0.50139,     0.50139,     0.49455,     0.49455,     0.49455,     0.48533,     0.48533,     0.47686,     0.47686,     0.47686,     0.47686,     0.47686,     0.47686,     0.47686,     0.47686,     0.47686,     0.47686,     0.47637,     0.47637,\n",
              "            0.47637,     0.47402,     0.47402,     0.46766,     0.46766,     0.46766,      0.4592,      0.4592,     0.45487,     0.45335,     0.45335,     0.44771,     0.44771,     0.44771,     0.44213,     0.43972,     0.43972,     0.43914,     0.43914,     0.43914,     0.43914,     0.43914,     0.43434,\n",
              "            0.43352,     0.43352,     0.43142,     0.43142,     0.43142,       0.425,      0.4247,      0.4247,     0.42213,     0.42201,     0.42201,     0.42201,     0.42038,     0.42038,     0.41966,     0.41763,     0.41763,     0.40965,     0.40965,     0.40587,     0.40587,     0.40587,     0.40402,\n",
              "             0.4026,      0.4026,     0.40099,     0.40099,     0.40099,     0.38889,     0.38768,     0.38768,     0.38768,     0.38768,     0.38768,     0.38606,     0.38606,     0.38592,     0.38254,     0.38254,     0.38214,     0.38214,     0.38214,     0.38214,        0.38,        0.38,        0.38,\n",
              "               0.38,        0.38,     0.37884,     0.37736,     0.37736,      0.3769,      0.3769,     0.37578,      0.3739,      0.3739,      0.3739,     0.37313,     0.37313,     0.36779,     0.36779,     0.36779,      0.3677,     0.36635,     0.36635,     0.36165,     0.36007,     0.36007,     0.35993,\n",
              "            0.35993,     0.35993,     0.35691,     0.35691,     0.35452,     0.35105,     0.35105,     0.34821,     0.34679,     0.34679,      0.3454,     0.34402,     0.34402,     0.33767,     0.33358,     0.33358,     0.33134,     0.33134,     0.33085,     0.32939,     0.32939,     0.32939,     0.32556,\n",
              "            0.32556,     0.32511,     0.32442,     0.32442,     0.32397,     0.32307,     0.32307,     0.31853,     0.31678,     0.31678,     0.31616,     0.31383,     0.31383,     0.31383,     0.31383,     0.31173,     0.31135,     0.31135,     0.30993,     0.30914,     0.30914,     0.30289,     0.30236,\n",
              "            0.30236,     0.30195,     0.30195,     0.30195,     0.30195,     0.30123,     0.30123,     0.29747,     0.29747,     0.29747,     0.29747,     0.29747,     0.29747,     0.29437,     0.29437,     0.29342,     0.29342,     0.29342,     0.29009,     0.28893,     0.28893,     0.28831,     0.28614,\n",
              "            0.28614,     0.28085,     0.28085,     0.28028,     0.27682,     0.27682,     0.27299,     0.27155,     0.27155,     0.26878,     0.26648,     0.26648,     0.26648,     0.26471,     0.26471,      0.2631,     0.26293,     0.26293,     0.26178,     0.26178,     0.25995,     0.25842,     0.25842,\n",
              "             0.2544,     0.25346,     0.25346,     0.25346,      0.2532,      0.2532,     0.25255,     0.25113,     0.25113,     0.25113,       0.251,       0.251,       0.251,       0.251,     0.25088,     0.25087,     0.25087,     0.24323,     0.24289,     0.24289,      0.2414,     0.24072,     0.24072,\n",
              "            0.24051,     0.23707,     0.23707,     0.23707,     0.23677,     0.23677,     0.23101,     0.23101,     0.22476,     0.22343,     0.22343,     0.22261,     0.22146,     0.22146,     0.22146,     0.22094,     0.22094,     0.21986,      0.2158,      0.2158,      0.2085,       0.206,       0.206,\n",
              "              0.206,     0.20486,     0.20486,     0.20469,     0.20469,     0.20349,     0.20192,     0.20192,     0.20138,     0.20129,     0.20129,     0.20129,     0.19858,     0.19858,     0.19828,     0.19573,     0.19573,     0.19502,     0.19391,     0.19391,     0.19391,     0.19391,     0.19371,\n",
              "            0.19305,     0.19305,     0.19305,     0.19305,     0.19305,     0.18941,     0.18916,     0.18916,     0.18076,     0.18076,     0.18076,     0.17749,     0.17672,     0.17672,     0.17455,     0.17455,     0.17299,     0.17227,     0.17227,     0.17135,     0.17054,     0.17054,     0.17048,\n",
              "            0.17027,     0.17027,     0.16953,     0.16493,     0.16493,     0.16319,       0.163,       0.163,     0.16114,     0.16114,     0.16114,     0.16114,     0.16114,     0.15896,     0.15627,     0.15627,     0.15538,     0.15308,     0.15308,     0.15308,     0.15308,     0.15308,      0.1525,\n",
              "             0.1525,      0.1525,     0.14854,     0.14854,     0.14549,     0.14463,     0.14463,     0.14386,     0.14386,     0.14386,     0.14368,     0.14343,     0.14343,     0.14254,     0.14254,     0.14254,     0.14063,     0.13677,     0.13677,     0.13659,     0.13659,     0.12468,     0.12206,\n",
              "            0.12206,     0.11897,     0.11805,     0.11805,     0.11805,     0.11775,     0.11775,      0.1137,     0.11209,     0.11209,     0.10933,     0.10867,     0.10867,     0.10491,     0.10311,     0.10311,     0.10121,     0.10121,    0.098423,    0.096822,    0.096822,    0.088779,    0.088274,\n",
              "           0.088274,    0.088274,    0.085307,    0.085307,    0.070703,    0.068478,    0.068478,    0.061439,    0.060345,    0.060345,    0.059556,    0.059556,    0.059106,    0.059082,    0.059082,    0.057452,    0.051198,    0.051198,    0.050132,    0.048755,    0.048755,    0.048528,    0.048507,\n",
              "           0.048507,    0.044571,    0.043559,    0.043559,    0.042234,    0.042234,    0.042187,    0.041557,    0.041557,    0.039448,    0.037378,    0.037378,    0.037006,    0.036815,    0.036815,    0.036132,    0.033112,    0.033112,    0.029755,    0.028988,    0.028988,    0.026983,    0.026983,\n",
              "           0.026869,    0.023987,    0.023987,    0.022794,    0.022035,    0.021275,    0.020515,    0.019755,    0.018995,    0.018236,    0.017476,    0.016716,    0.015956,    0.015196,    0.014436,    0.013677,    0.012917,    0.012157,    0.011397,    0.010637,   0.0098776,   0.0091178,    0.008358,\n",
              "          0.0075981,   0.0068383,   0.0060785,   0.0053187,   0.0045589,   0.0037991,   0.0030393,   0.0022794,   0.0015196,  0.00075981,           0]]), 'Recall', 'Precision'], [array([          0,    0.001001,    0.002002,    0.003003,    0.004004,    0.005005,    0.006006,    0.007007,    0.008008,    0.009009,     0.01001,    0.011011,    0.012012,    0.013013,    0.014014,    0.015015,    0.016016,    0.017017,    0.018018,    0.019019,     0.02002,    0.021021,    0.022022,    0.023023,\n",
              "          0.024024,    0.025025,    0.026026,    0.027027,    0.028028,    0.029029,     0.03003,    0.031031,    0.032032,    0.033033,    0.034034,    0.035035,    0.036036,    0.037037,    0.038038,    0.039039,     0.04004,    0.041041,    0.042042,    0.043043,    0.044044,    0.045045,    0.046046,    0.047047,\n",
              "          0.048048,    0.049049,     0.05005,    0.051051,    0.052052,    0.053053,    0.054054,    0.055055,    0.056056,    0.057057,    0.058058,    0.059059,     0.06006,    0.061061,    0.062062,    0.063063,    0.064064,    0.065065,    0.066066,    0.067067,    0.068068,    0.069069,     0.07007,    0.071071,\n",
              "          0.072072,    0.073073,    0.074074,    0.075075,    0.076076,    0.077077,    0.078078,    0.079079,     0.08008,    0.081081,    0.082082,    0.083083,    0.084084,    0.085085,    0.086086,    0.087087,    0.088088,    0.089089,     0.09009,    0.091091,    0.092092,    0.093093,    0.094094,    0.095095,\n",
              "          0.096096,    0.097097,    0.098098,    0.099099,      0.1001,      0.1011,      0.1021,      0.1031,      0.1041,     0.10511,     0.10611,     0.10711,     0.10811,     0.10911,     0.11011,     0.11111,     0.11211,     0.11311,     0.11411,     0.11512,     0.11612,     0.11712,     0.11812,     0.11912,\n",
              "           0.12012,     0.12112,     0.12212,     0.12312,     0.12412,     0.12513,     0.12613,     0.12713,     0.12813,     0.12913,     0.13013,     0.13113,     0.13213,     0.13313,     0.13413,     0.13514,     0.13614,     0.13714,     0.13814,     0.13914,     0.14014,     0.14114,     0.14214,     0.14314,\n",
              "           0.14414,     0.14515,     0.14615,     0.14715,     0.14815,     0.14915,     0.15015,     0.15115,     0.15215,     0.15315,     0.15415,     0.15516,     0.15616,     0.15716,     0.15816,     0.15916,     0.16016,     0.16116,     0.16216,     0.16316,     0.16416,     0.16517,     0.16617,     0.16717,\n",
              "           0.16817,     0.16917,     0.17017,     0.17117,     0.17217,     0.17317,     0.17417,     0.17518,     0.17618,     0.17718,     0.17818,     0.17918,     0.18018,     0.18118,     0.18218,     0.18318,     0.18418,     0.18519,     0.18619,     0.18719,     0.18819,     0.18919,     0.19019,     0.19119,\n",
              "           0.19219,     0.19319,     0.19419,      0.1952,      0.1962,      0.1972,      0.1982,      0.1992,      0.2002,      0.2012,      0.2022,      0.2032,      0.2042,     0.20521,     0.20621,     0.20721,     0.20821,     0.20921,     0.21021,     0.21121,     0.21221,     0.21321,     0.21421,     0.21522,\n",
              "           0.21622,     0.21722,     0.21822,     0.21922,     0.22022,     0.22122,     0.22222,     0.22322,     0.22422,     0.22523,     0.22623,     0.22723,     0.22823,     0.22923,     0.23023,     0.23123,     0.23223,     0.23323,     0.23423,     0.23524,     0.23624,     0.23724,     0.23824,     0.23924,\n",
              "           0.24024,     0.24124,     0.24224,     0.24324,     0.24424,     0.24525,     0.24625,     0.24725,     0.24825,     0.24925,     0.25025,     0.25125,     0.25225,     0.25325,     0.25425,     0.25526,     0.25626,     0.25726,     0.25826,     0.25926,     0.26026,     0.26126,     0.26226,     0.26326,\n",
              "           0.26426,     0.26527,     0.26627,     0.26727,     0.26827,     0.26927,     0.27027,     0.27127,     0.27227,     0.27327,     0.27427,     0.27528,     0.27628,     0.27728,     0.27828,     0.27928,     0.28028,     0.28128,     0.28228,     0.28328,     0.28428,     0.28529,     0.28629,     0.28729,\n",
              "           0.28829,     0.28929,     0.29029,     0.29129,     0.29229,     0.29329,     0.29429,      0.2953,      0.2963,      0.2973,      0.2983,      0.2993,      0.3003,      0.3013,      0.3023,      0.3033,      0.3043,     0.30531,     0.30631,     0.30731,     0.30831,     0.30931,     0.31031,     0.31131,\n",
              "           0.31231,     0.31331,     0.31431,     0.31532,     0.31632,     0.31732,     0.31832,     0.31932,     0.32032,     0.32132,     0.32232,     0.32332,     0.32432,     0.32533,     0.32633,     0.32733,     0.32833,     0.32933,     0.33033,     0.33133,     0.33233,     0.33333,     0.33433,     0.33534,\n",
              "           0.33634,     0.33734,     0.33834,     0.33934,     0.34034,     0.34134,     0.34234,     0.34334,     0.34434,     0.34535,     0.34635,     0.34735,     0.34835,     0.34935,     0.35035,     0.35135,     0.35235,     0.35335,     0.35435,     0.35536,     0.35636,     0.35736,     0.35836,     0.35936,\n",
              "           0.36036,     0.36136,     0.36236,     0.36336,     0.36436,     0.36537,     0.36637,     0.36737,     0.36837,     0.36937,     0.37037,     0.37137,     0.37237,     0.37337,     0.37437,     0.37538,     0.37638,     0.37738,     0.37838,     0.37938,     0.38038,     0.38138,     0.38238,     0.38338,\n",
              "           0.38438,     0.38539,     0.38639,     0.38739,     0.38839,     0.38939,     0.39039,     0.39139,     0.39239,     0.39339,     0.39439,      0.3954,      0.3964,      0.3974,      0.3984,      0.3994,      0.4004,      0.4014,      0.4024,      0.4034,      0.4044,     0.40541,     0.40641,     0.40741,\n",
              "           0.40841,     0.40941,     0.41041,     0.41141,     0.41241,     0.41341,     0.41441,     0.41542,     0.41642,     0.41742,     0.41842,     0.41942,     0.42042,     0.42142,     0.42242,     0.42342,     0.42442,     0.42543,     0.42643,     0.42743,     0.42843,     0.42943,     0.43043,     0.43143,\n",
              "           0.43243,     0.43343,     0.43443,     0.43544,     0.43644,     0.43744,     0.43844,     0.43944,     0.44044,     0.44144,     0.44244,     0.44344,     0.44444,     0.44545,     0.44645,     0.44745,     0.44845,     0.44945,     0.45045,     0.45145,     0.45245,     0.45345,     0.45445,     0.45546,\n",
              "           0.45646,     0.45746,     0.45846,     0.45946,     0.46046,     0.46146,     0.46246,     0.46346,     0.46446,     0.46547,     0.46647,     0.46747,     0.46847,     0.46947,     0.47047,     0.47147,     0.47247,     0.47347,     0.47447,     0.47548,     0.47648,     0.47748,     0.47848,     0.47948,\n",
              "           0.48048,     0.48148,     0.48248,     0.48348,     0.48448,     0.48549,     0.48649,     0.48749,     0.48849,     0.48949,     0.49049,     0.49149,     0.49249,     0.49349,     0.49449,      0.4955,      0.4965,      0.4975,      0.4985,      0.4995,      0.5005,      0.5015,      0.5025,      0.5035,\n",
              "            0.5045,     0.50551,     0.50651,     0.50751,     0.50851,     0.50951,     0.51051,     0.51151,     0.51251,     0.51351,     0.51451,     0.51552,     0.51652,     0.51752,     0.51852,     0.51952,     0.52052,     0.52152,     0.52252,     0.52352,     0.52452,     0.52553,     0.52653,     0.52753,\n",
              "           0.52853,     0.52953,     0.53053,     0.53153,     0.53253,     0.53353,     0.53453,     0.53554,     0.53654,     0.53754,     0.53854,     0.53954,     0.54054,     0.54154,     0.54254,     0.54354,     0.54454,     0.54555,     0.54655,     0.54755,     0.54855,     0.54955,     0.55055,     0.55155,\n",
              "           0.55255,     0.55355,     0.55455,     0.55556,     0.55656,     0.55756,     0.55856,     0.55956,     0.56056,     0.56156,     0.56256,     0.56356,     0.56456,     0.56557,     0.56657,     0.56757,     0.56857,     0.56957,     0.57057,     0.57157,     0.57257,     0.57357,     0.57457,     0.57558,\n",
              "           0.57658,     0.57758,     0.57858,     0.57958,     0.58058,     0.58158,     0.58258,     0.58358,     0.58458,     0.58559,     0.58659,     0.58759,     0.58859,     0.58959,     0.59059,     0.59159,     0.59259,     0.59359,     0.59459,      0.5956,      0.5966,      0.5976,      0.5986,      0.5996,\n",
              "            0.6006,      0.6016,      0.6026,      0.6036,      0.6046,     0.60561,     0.60661,     0.60761,     0.60861,     0.60961,     0.61061,     0.61161,     0.61261,     0.61361,     0.61461,     0.61562,     0.61662,     0.61762,     0.61862,     0.61962,     0.62062,     0.62162,     0.62262,     0.62362,\n",
              "           0.62462,     0.62563,     0.62663,     0.62763,     0.62863,     0.62963,     0.63063,     0.63163,     0.63263,     0.63363,     0.63463,     0.63564,     0.63664,     0.63764,     0.63864,     0.63964,     0.64064,     0.64164,     0.64264,     0.64364,     0.64464,     0.64565,     0.64665,     0.64765,\n",
              "           0.64865,     0.64965,     0.65065,     0.65165,     0.65265,     0.65365,     0.65465,     0.65566,     0.65666,     0.65766,     0.65866,     0.65966,     0.66066,     0.66166,     0.66266,     0.66366,     0.66466,     0.66567,     0.66667,     0.66767,     0.66867,     0.66967,     0.67067,     0.67167,\n",
              "           0.67267,     0.67367,     0.67467,     0.67568,     0.67668,     0.67768,     0.67868,     0.67968,     0.68068,     0.68168,     0.68268,     0.68368,     0.68468,     0.68569,     0.68669,     0.68769,     0.68869,     0.68969,     0.69069,     0.69169,     0.69269,     0.69369,     0.69469,      0.6957,\n",
              "            0.6967,      0.6977,      0.6987,      0.6997,      0.7007,      0.7017,      0.7027,      0.7037,      0.7047,     0.70571,     0.70671,     0.70771,     0.70871,     0.70971,     0.71071,     0.71171,     0.71271,     0.71371,     0.71471,     0.71572,     0.71672,     0.71772,     0.71872,     0.71972,\n",
              "           0.72072,     0.72172,     0.72272,     0.72372,     0.72472,     0.72573,     0.72673,     0.72773,     0.72873,     0.72973,     0.73073,     0.73173,     0.73273,     0.73373,     0.73473,     0.73574,     0.73674,     0.73774,     0.73874,     0.73974,     0.74074,     0.74174,     0.74274,     0.74374,\n",
              "           0.74474,     0.74575,     0.74675,     0.74775,     0.74875,     0.74975,     0.75075,     0.75175,     0.75275,     0.75375,     0.75475,     0.75576,     0.75676,     0.75776,     0.75876,     0.75976,     0.76076,     0.76176,     0.76276,     0.76376,     0.76476,     0.76577,     0.76677,     0.76777,\n",
              "           0.76877,     0.76977,     0.77077,     0.77177,     0.77277,     0.77377,     0.77477,     0.77578,     0.77678,     0.77778,     0.77878,     0.77978,     0.78078,     0.78178,     0.78278,     0.78378,     0.78478,     0.78579,     0.78679,     0.78779,     0.78879,     0.78979,     0.79079,     0.79179,\n",
              "           0.79279,     0.79379,     0.79479,      0.7958,      0.7968,      0.7978,      0.7988,      0.7998,      0.8008,      0.8018,      0.8028,      0.8038,      0.8048,     0.80581,     0.80681,     0.80781,     0.80881,     0.80981,     0.81081,     0.81181,     0.81281,     0.81381,     0.81481,     0.81582,\n",
              "           0.81682,     0.81782,     0.81882,     0.81982,     0.82082,     0.82182,     0.82282,     0.82382,     0.82482,     0.82583,     0.82683,     0.82783,     0.82883,     0.82983,     0.83083,     0.83183,     0.83283,     0.83383,     0.83483,     0.83584,     0.83684,     0.83784,     0.83884,     0.83984,\n",
              "           0.84084,     0.84184,     0.84284,     0.84384,     0.84484,     0.84585,     0.84685,     0.84785,     0.84885,     0.84985,     0.85085,     0.85185,     0.85285,     0.85385,     0.85485,     0.85586,     0.85686,     0.85786,     0.85886,     0.85986,     0.86086,     0.86186,     0.86286,     0.86386,\n",
              "           0.86486,     0.86587,     0.86687,     0.86787,     0.86887,     0.86987,     0.87087,     0.87187,     0.87287,     0.87387,     0.87487,     0.87588,     0.87688,     0.87788,     0.87888,     0.87988,     0.88088,     0.88188,     0.88288,     0.88388,     0.88488,     0.88589,     0.88689,     0.88789,\n",
              "           0.88889,     0.88989,     0.89089,     0.89189,     0.89289,     0.89389,     0.89489,      0.8959,      0.8969,      0.8979,      0.8989,      0.8999,      0.9009,      0.9019,      0.9029,      0.9039,      0.9049,     0.90591,     0.90691,     0.90791,     0.90891,     0.90991,     0.91091,     0.91191,\n",
              "           0.91291,     0.91391,     0.91491,     0.91592,     0.91692,     0.91792,     0.91892,     0.91992,     0.92092,     0.92192,     0.92292,     0.92392,     0.92492,     0.92593,     0.92693,     0.92793,     0.92893,     0.92993,     0.93093,     0.93193,     0.93293,     0.93393,     0.93493,     0.93594,\n",
              "           0.93694,     0.93794,     0.93894,     0.93994,     0.94094,     0.94194,     0.94294,     0.94394,     0.94494,     0.94595,     0.94695,     0.94795,     0.94895,     0.94995,     0.95095,     0.95195,     0.95295,     0.95395,     0.95495,     0.95596,     0.95696,     0.95796,     0.95896,     0.95996,\n",
              "           0.96096,     0.96196,     0.96296,     0.96396,     0.96496,     0.96597,     0.96697,     0.96797,     0.96897,     0.96997,     0.97097,     0.97197,     0.97297,     0.97397,     0.97497,     0.97598,     0.97698,     0.97798,     0.97898,     0.97998,     0.98098,     0.98198,     0.98298,     0.98398,\n",
              "           0.98498,     0.98599,     0.98699,     0.98799,     0.98899,     0.98999,     0.99099,     0.99199,     0.99299,     0.99399,     0.99499,       0.996,       0.997,       0.998,       0.999,           1]), array([[   0.045818,    0.045818,    0.065825,    0.080766,    0.093315,     0.10527,     0.11551,       0.125,     0.13448,     0.14369,     0.15226,     0.15992,      0.1665,     0.17373,     0.18049,     0.18695,     0.19372,     0.19941,     0.20646,     0.21109,     0.21694,     0.22207,     0.22763,\n",
              "            0.23394,     0.23835,     0.24323,     0.24706,     0.25029,     0.25433,     0.25807,     0.26023,      0.2646,     0.26874,      0.2725,     0.27645,      0.2806,      0.2839,     0.28652,     0.28952,     0.29294,     0.29701,      0.3005,     0.30345,     0.30784,     0.31059,     0.31297,\n",
              "            0.31485,     0.31709,     0.32033,     0.32283,     0.32506,     0.32795,     0.32976,     0.33242,     0.33577,     0.33991,     0.34285,     0.34557,      0.3474,     0.34929,      0.3519,      0.3552,     0.35773,     0.36033,     0.36271,     0.36442,     0.36656,      0.3678,     0.37028,\n",
              "            0.37298,     0.37702,      0.3788,     0.37767,     0.38035,     0.38089,     0.38407,      0.3867,     0.38852,     0.39053,     0.39259,     0.39461,     0.39657,     0.39866,     0.40188,     0.40376,     0.40648,     0.40847,     0.41137,     0.41219,     0.41336,     0.41543,     0.41732,\n",
              "            0.41798,     0.41935,      0.4212,     0.42068,     0.42219,     0.42466,     0.42406,     0.42492,     0.42788,     0.43083,     0.43077,     0.43196,     0.43302,     0.43361,     0.43462,     0.43522,      0.4362,     0.43763,     0.44086,      0.4419,     0.44176,     0.44253,     0.44453,\n",
              "            0.44527,     0.44642,      0.4471,     0.44784,     0.44881,     0.45104,     0.45137,     0.45243,     0.45544,     0.45646,     0.45697,     0.45858,     0.46033,     0.46137,     0.46312,     0.46529,       0.467,      0.4672,     0.46773,     0.46973,     0.47124,     0.47218,     0.47097,\n",
              "             0.4727,     0.47353,     0.47513,     0.47577,      0.4768,     0.47695,     0.47721,     0.47799,     0.47776,     0.47677,     0.47792,     0.47711,     0.47798,     0.47883,     0.47933,     0.47985,     0.48037,     0.47953,     0.47888,     0.47931,      0.4804,     0.48213,     0.48344,\n",
              "            0.48493,     0.48626,     0.48778,     0.48748,     0.48911,     0.48904,     0.48967,     0.48997,     0.49064,     0.49156,     0.49326,     0.49456,      0.4955,     0.49666,     0.49686,     0.49813,     0.49841,     0.49821,     0.49807,     0.49915,     0.49823,     0.50039,     0.50243,\n",
              "            0.50225,     0.50244,     0.50252,     0.50333,     0.50443,     0.50587,     0.50435,     0.50371,     0.50523,     0.50568,     0.50814,     0.50818,     0.50909,     0.51033,     0.51058,     0.51105,     0.51202,     0.51263,      0.5132,     0.51377,     0.51569,     0.51655,     0.51796,\n",
              "             0.5189,     0.52083,     0.52006,     0.52135,     0.52162,     0.51916,      0.5181,     0.51638,     0.51624,     0.51986,     0.52025,     0.52063,     0.52223,     0.52546,     0.52495,     0.52617,     0.52682,     0.52783,     0.52761,     0.52694,     0.52868,     0.52799,     0.52608,\n",
              "            0.52457,     0.52295,     0.52242,     0.52345,     0.52433,     0.52542,     0.52491,     0.52358,     0.52411,      0.5248,       0.526,      0.5266,     0.52793,     0.52593,     0.52722,     0.52753,     0.52725,     0.52595,     0.52735,      0.5272,      0.5269,     0.52869,     0.52926,\n",
              "            0.52853,     0.52756,     0.52746,     0.52824,     0.52756,     0.52775,     0.52887,     0.52937,     0.52829,     0.52803,     0.52861,     0.52919,     0.52896,     0.52916,     0.52935,      0.5276,     0.52672,     0.52701,     0.52839,     0.52903,      0.5281,     0.52797,     0.52493,\n",
              "            0.52552,     0.52638,     0.52697,     0.52653,     0.52676,     0.52623,     0.52773,     0.52809,     0.52731,     0.52729,     0.52794,     0.52682,     0.52729,     0.52719,     0.52277,     0.52337,      0.5226,     0.52314,     0.52129,     0.52272,     0.52198,     0.52304,     0.52332,\n",
              "            0.52373,     0.52189,     0.52226,     0.52176,     0.52176,     0.52204,     0.52224,     0.52251,     0.52326,     0.52095,     0.52148,     0.52303,     0.52252,     0.52397,     0.52322,     0.52305,     0.52399,     0.52066,     0.52039,     0.52066,      0.5209,     0.51905,     0.52019,\n",
              "            0.51992,     0.52089,     0.52015,     0.52053,     0.51977,     0.51808,     0.51563,     0.51354,     0.51274,      0.5123,     0.51152,     0.51073,     0.51153,     0.51198,     0.51219,      0.5119,     0.51222,     0.51075,     0.51193,     0.51232,     0.51166,     0.51201,     0.51229,\n",
              "            0.51115,     0.51193,     0.51162,     0.51119,     0.51075,     0.51019,     0.50885,     0.50802,     0.50878,     0.50858,     0.50858,     0.50776,     0.50823,     0.50888,     0.50939,     0.50755,     0.50816,     0.50763,      0.5075,     0.50654,     0.50557,     0.50335,     0.50282,\n",
              "            0.50044,     0.49998,     0.49592,     0.49622,     0.49473,     0.49442,     0.49333,     0.49383,     0.49403,     0.49426,     0.49465,     0.49371,     0.49332,      0.4936,     0.49247,     0.49137,     0.49106,     0.48878,     0.48896,     0.48914,     0.48756,     0.48543,     0.48665,\n",
              "            0.48681,     0.48698,     0.48717,     0.48813,     0.48841,     0.48667,     0.48564,     0.48536,     0.48303,     0.48202,     0.48169,      0.4805,     0.47864,     0.47929,     0.47896,     0.47923,     0.47778,     0.47803,     0.47785,     0.47525,     0.47568,     0.47593,     0.47463,\n",
              "            0.47492,     0.47533,     0.47583,     0.47682,     0.47273,     0.47004,     0.46865,     0.46881,     0.46898,     0.46777,     0.46315,     0.46332,     0.46348,     0.46172,     0.46025,     0.45942,     0.45839,     0.45734,     0.45508,     0.45582,     0.45321,     0.45349,      0.4539,\n",
              "            0.45351,     0.45267,     0.44959,     0.44927,     0.44944,      0.4496,     0.44983,     0.45007,     0.45032,     0.45056,        0.45,     0.44878,     0.44756,     0.44778,     0.44796,     0.44638,     0.44717,     0.44571,     0.44547,     0.44464,     0.44441,      0.4427,      0.4419,\n",
              "            0.44215,     0.44135,     0.43839,     0.43751,     0.43659,     0.43483,     0.43355,      0.4323,     0.43247,     0.43263,     0.42962,     0.43005,     0.42874,     0.42695,     0.42687,     0.42711,     0.42203,     0.42116,     0.42151,     0.42199,     0.41845,     0.41861,     0.41877,\n",
              "            0.41537,     0.41561,      0.4157,     0.41478,     0.41189,     0.40868,     0.40891,     0.40885,     0.40793,     0.40536,     0.40427,     0.40484,     0.40296,     0.39924,     0.39735,     0.39653,     0.39633,     0.39442,     0.38954,     0.38906,     0.38858,      0.3881,     0.38807,\n",
              "            0.38759,     0.38711,     0.38663,     0.38683,     0.38596,     0.38288,     0.38191,     0.37678,     0.37538,     0.37225,      0.3716,     0.37061,     0.36961,     0.36862,     0.36667,     0.36703,     0.36503,     0.36324,     0.36404,     0.36375,     0.36347,     0.36318,     0.36289,\n",
              "             0.3626,     0.36232,     0.36154,     0.35999,     0.35949,     0.35898,     0.35847,     0.35823,     0.35838,     0.35853,     0.35764,     0.35561,     0.35357,     0.35153,     0.34591,     0.34521,     0.34542,     0.34418,     0.34335,     0.34199,     0.34095,     0.33913,     0.33704,\n",
              "            0.33672,     0.33686,       0.337,      0.3352,      0.3331,      0.3329,     0.33243,     0.33197,      0.3315,     0.33113,     0.33007,      0.3257,       0.326,      0.3262,     0.32608,     0.32577,     0.32547,     0.32516,     0.32486,     0.32455,     0.32424,     0.31971,     0.31935,\n",
              "            0.31899,     0.31863,     0.31827,     0.31791,      0.3137,     0.31463,     0.31479,     0.31502,     0.31458,     0.31415,     0.31371,     0.31327,      0.3134,     0.30986,     0.30336,     0.29764,     0.29652,     0.29541,     0.29429,     0.29223,     0.28896,     0.28806,     0.28706,\n",
              "            0.28594,     0.28481,     0.28368,     0.28231,     0.28004,     0.27841,     0.27727,     0.27542,     0.27485,     0.27394,     0.27249,     0.27133,     0.26832,     0.26792,     0.26596,      0.2648,     0.26145,     0.26051,     0.25958,     0.25982,     0.25788,     0.25823,     0.25746,\n",
              "            0.25667,     0.25595,     0.25612,     0.25399,     0.25422,     0.25353,     0.25235,     0.25144,     0.25064,     0.24985,     0.24939,     0.24902,     0.24865,     0.24828,     0.24792,     0.24755,     0.24528,     0.24505,     0.24509,     0.24514,     0.24518,     0.24523,     0.24527,\n",
              "            0.24532,     0.24224,     0.24103,     0.23665,     0.23242,     0.22823,     0.22608,     0.21923,     0.21824,     0.21725,     0.21605,     0.21481,     0.21418,     0.21363,     0.21307,     0.21252,     0.21239,     0.21121,     0.20749,     0.20497,     0.19751,     0.19497,     0.19201,\n",
              "            0.18985,     0.18912,     0.18839,     0.18718,     0.18246,     0.18117,     0.18009,     0.17944,     0.17879,     0.17815,     0.17789,     0.17769,     0.17694,      0.1762,     0.17284,     0.16784,       0.168,     0.16648,     0.16384,     0.16243,     0.16167,     0.16092,     0.16009,\n",
              "            0.15902,     0.15796,     0.15793,     0.15804,     0.15814,     0.15751,     0.15573,     0.15567,     0.15576,     0.15452,     0.15339,     0.15231,     0.15124,     0.15064,      0.1504,     0.15015,      0.1499,     0.14966,     0.14941,     0.14917,     0.14892,     0.14868,     0.14843,\n",
              "            0.14819,     0.14321,     0.14292,     0.14299,     0.14306,     0.14049,     0.13934,     0.13825,     0.13737,     0.13669,       0.136,     0.13531,     0.13448,     0.13357,     0.13265,     0.12691,     0.12656,     0.12622,     0.12587,     0.12552,     0.12518,     0.12483,     0.12448,\n",
              "            0.12382,     0.12271,      0.1216,     0.11749,     0.11608,     0.11421,      0.1134,     0.11345,      0.1135,     0.11066,     0.10971,     0.10877,     0.10763,     0.10574,     0.10384,     0.10086,    0.099402,    0.099021,     0.09864,    0.098259,    0.097878,    0.097496,    0.097114,\n",
              "           0.095996,    0.094111,    0.093773,    0.093435,    0.093097,    0.092758,     0.09242,    0.092081,    0.091742,    0.091404,    0.090613,    0.089651,    0.088689,    0.082659,    0.082077,    0.081495,    0.080913,     0.08033,    0.079368,    0.077908,    0.076799,    0.076067,    0.075335,\n",
              "           0.074602,    0.073727,    0.072748,    0.071768,     0.06759,    0.066112,    0.063591,    0.060621,    0.058986,    0.057793,    0.056739,    0.055992,    0.055244,    0.054496,    0.053747,    0.052998,    0.052248,    0.051498,    0.048181,    0.047578,    0.046975,    0.046371,    0.045768,\n",
              "           0.041437,     0.03905,    0.038616,    0.038181,    0.037746,    0.037311,    0.036875,     0.03644,    0.035357,    0.034135,    0.032203,    0.027875,    0.025977,    0.024435,    0.023533,     0.02265,    0.021766,    0.021193,    0.020866,     0.02054,    0.020214,    0.019888,    0.019561,\n",
              "           0.019235,    0.018908,    0.018581,     0.01799,    0.016746,    0.015501,    0.015322,     0.01533,    0.015337,    0.014953,    0.014537,    0.014121,    0.013704,    0.013287,     0.01287,    0.012453,    0.012223,    0.012115,    0.012008,      0.0119,    0.011792,    0.011684,    0.011576,\n",
              "           0.011468,     0.01136,    0.011252,    0.011144,    0.011035,    0.010927,    0.010819,    0.010711,    0.010603,    0.010495,    0.010387,    0.010279,    0.010171,    0.010062,   0.0099543,   0.0098461,   0.0097379,   0.0096297,   0.0095215,   0.0094133,    0.009305,   0.0072575,   0.0060477,\n",
              "          0.0059077,   0.0057677,   0.0056277,   0.0054876,   0.0053476,   0.0052075,   0.0050674,   0.0049273,   0.0047871,    0.004647,   0.0045068,   0.0043666,   0.0042264,   0.0040861,   0.0039459,   0.0038056,   0.0036653,    0.003525,   0.0033846,   0.0032443,   0.0031039,           0,           0,\n",
              "                  0,           0,           0,           0,           0,           0,           0,           0,           0,           0,           0,           0,           0,           0,           0,           0,           0,           0,           0,           0,           0,           0,           0,\n",
              "                  0,           0,           0,           0,           0,           0,           0,           0,           0,           0,           0,           0,           0,           0,           0,           0,           0,           0,           0,           0,           0,           0,           0,\n",
              "                  0,           0,           0,           0,           0,           0,           0,           0,           0,           0,           0,           0,           0,           0,           0,           0,           0,           0,           0,           0,           0,           0,           0,\n",
              "                  0,           0,           0,           0,           0,           0,           0,           0,           0,           0,           0,           0,           0,           0,           0,           0,           0,           0,           0,           0,           0,           0,           0,\n",
              "                  0,           0,           0,           0,           0,           0,           0,           0,           0,           0,           0]]), 'Confidence', 'F1'], [array([          0,    0.001001,    0.002002,    0.003003,    0.004004,    0.005005,    0.006006,    0.007007,    0.008008,    0.009009,     0.01001,    0.011011,    0.012012,    0.013013,    0.014014,    0.015015,    0.016016,    0.017017,    0.018018,    0.019019,     0.02002,    0.021021,    0.022022,    0.023023,\n",
              "          0.024024,    0.025025,    0.026026,    0.027027,    0.028028,    0.029029,     0.03003,    0.031031,    0.032032,    0.033033,    0.034034,    0.035035,    0.036036,    0.037037,    0.038038,    0.039039,     0.04004,    0.041041,    0.042042,    0.043043,    0.044044,    0.045045,    0.046046,    0.047047,\n",
              "          0.048048,    0.049049,     0.05005,    0.051051,    0.052052,    0.053053,    0.054054,    0.055055,    0.056056,    0.057057,    0.058058,    0.059059,     0.06006,    0.061061,    0.062062,    0.063063,    0.064064,    0.065065,    0.066066,    0.067067,    0.068068,    0.069069,     0.07007,    0.071071,\n",
              "          0.072072,    0.073073,    0.074074,    0.075075,    0.076076,    0.077077,    0.078078,    0.079079,     0.08008,    0.081081,    0.082082,    0.083083,    0.084084,    0.085085,    0.086086,    0.087087,    0.088088,    0.089089,     0.09009,    0.091091,    0.092092,    0.093093,    0.094094,    0.095095,\n",
              "          0.096096,    0.097097,    0.098098,    0.099099,      0.1001,      0.1011,      0.1021,      0.1031,      0.1041,     0.10511,     0.10611,     0.10711,     0.10811,     0.10911,     0.11011,     0.11111,     0.11211,     0.11311,     0.11411,     0.11512,     0.11612,     0.11712,     0.11812,     0.11912,\n",
              "           0.12012,     0.12112,     0.12212,     0.12312,     0.12412,     0.12513,     0.12613,     0.12713,     0.12813,     0.12913,     0.13013,     0.13113,     0.13213,     0.13313,     0.13413,     0.13514,     0.13614,     0.13714,     0.13814,     0.13914,     0.14014,     0.14114,     0.14214,     0.14314,\n",
              "           0.14414,     0.14515,     0.14615,     0.14715,     0.14815,     0.14915,     0.15015,     0.15115,     0.15215,     0.15315,     0.15415,     0.15516,     0.15616,     0.15716,     0.15816,     0.15916,     0.16016,     0.16116,     0.16216,     0.16316,     0.16416,     0.16517,     0.16617,     0.16717,\n",
              "           0.16817,     0.16917,     0.17017,     0.17117,     0.17217,     0.17317,     0.17417,     0.17518,     0.17618,     0.17718,     0.17818,     0.17918,     0.18018,     0.18118,     0.18218,     0.18318,     0.18418,     0.18519,     0.18619,     0.18719,     0.18819,     0.18919,     0.19019,     0.19119,\n",
              "           0.19219,     0.19319,     0.19419,      0.1952,      0.1962,      0.1972,      0.1982,      0.1992,      0.2002,      0.2012,      0.2022,      0.2032,      0.2042,     0.20521,     0.20621,     0.20721,     0.20821,     0.20921,     0.21021,     0.21121,     0.21221,     0.21321,     0.21421,     0.21522,\n",
              "           0.21622,     0.21722,     0.21822,     0.21922,     0.22022,     0.22122,     0.22222,     0.22322,     0.22422,     0.22523,     0.22623,     0.22723,     0.22823,     0.22923,     0.23023,     0.23123,     0.23223,     0.23323,     0.23423,     0.23524,     0.23624,     0.23724,     0.23824,     0.23924,\n",
              "           0.24024,     0.24124,     0.24224,     0.24324,     0.24424,     0.24525,     0.24625,     0.24725,     0.24825,     0.24925,     0.25025,     0.25125,     0.25225,     0.25325,     0.25425,     0.25526,     0.25626,     0.25726,     0.25826,     0.25926,     0.26026,     0.26126,     0.26226,     0.26326,\n",
              "           0.26426,     0.26527,     0.26627,     0.26727,     0.26827,     0.26927,     0.27027,     0.27127,     0.27227,     0.27327,     0.27427,     0.27528,     0.27628,     0.27728,     0.27828,     0.27928,     0.28028,     0.28128,     0.28228,     0.28328,     0.28428,     0.28529,     0.28629,     0.28729,\n",
              "           0.28829,     0.28929,     0.29029,     0.29129,     0.29229,     0.29329,     0.29429,      0.2953,      0.2963,      0.2973,      0.2983,      0.2993,      0.3003,      0.3013,      0.3023,      0.3033,      0.3043,     0.30531,     0.30631,     0.30731,     0.30831,     0.30931,     0.31031,     0.31131,\n",
              "           0.31231,     0.31331,     0.31431,     0.31532,     0.31632,     0.31732,     0.31832,     0.31932,     0.32032,     0.32132,     0.32232,     0.32332,     0.32432,     0.32533,     0.32633,     0.32733,     0.32833,     0.32933,     0.33033,     0.33133,     0.33233,     0.33333,     0.33433,     0.33534,\n",
              "           0.33634,     0.33734,     0.33834,     0.33934,     0.34034,     0.34134,     0.34234,     0.34334,     0.34434,     0.34535,     0.34635,     0.34735,     0.34835,     0.34935,     0.35035,     0.35135,     0.35235,     0.35335,     0.35435,     0.35536,     0.35636,     0.35736,     0.35836,     0.35936,\n",
              "           0.36036,     0.36136,     0.36236,     0.36336,     0.36436,     0.36537,     0.36637,     0.36737,     0.36837,     0.36937,     0.37037,     0.37137,     0.37237,     0.37337,     0.37437,     0.37538,     0.37638,     0.37738,     0.37838,     0.37938,     0.38038,     0.38138,     0.38238,     0.38338,\n",
              "           0.38438,     0.38539,     0.38639,     0.38739,     0.38839,     0.38939,     0.39039,     0.39139,     0.39239,     0.39339,     0.39439,      0.3954,      0.3964,      0.3974,      0.3984,      0.3994,      0.4004,      0.4014,      0.4024,      0.4034,      0.4044,     0.40541,     0.40641,     0.40741,\n",
              "           0.40841,     0.40941,     0.41041,     0.41141,     0.41241,     0.41341,     0.41441,     0.41542,     0.41642,     0.41742,     0.41842,     0.41942,     0.42042,     0.42142,     0.42242,     0.42342,     0.42442,     0.42543,     0.42643,     0.42743,     0.42843,     0.42943,     0.43043,     0.43143,\n",
              "           0.43243,     0.43343,     0.43443,     0.43544,     0.43644,     0.43744,     0.43844,     0.43944,     0.44044,     0.44144,     0.44244,     0.44344,     0.44444,     0.44545,     0.44645,     0.44745,     0.44845,     0.44945,     0.45045,     0.45145,     0.45245,     0.45345,     0.45445,     0.45546,\n",
              "           0.45646,     0.45746,     0.45846,     0.45946,     0.46046,     0.46146,     0.46246,     0.46346,     0.46446,     0.46547,     0.46647,     0.46747,     0.46847,     0.46947,     0.47047,     0.47147,     0.47247,     0.47347,     0.47447,     0.47548,     0.47648,     0.47748,     0.47848,     0.47948,\n",
              "           0.48048,     0.48148,     0.48248,     0.48348,     0.48448,     0.48549,     0.48649,     0.48749,     0.48849,     0.48949,     0.49049,     0.49149,     0.49249,     0.49349,     0.49449,      0.4955,      0.4965,      0.4975,      0.4985,      0.4995,      0.5005,      0.5015,      0.5025,      0.5035,\n",
              "            0.5045,     0.50551,     0.50651,     0.50751,     0.50851,     0.50951,     0.51051,     0.51151,     0.51251,     0.51351,     0.51451,     0.51552,     0.51652,     0.51752,     0.51852,     0.51952,     0.52052,     0.52152,     0.52252,     0.52352,     0.52452,     0.52553,     0.52653,     0.52753,\n",
              "           0.52853,     0.52953,     0.53053,     0.53153,     0.53253,     0.53353,     0.53453,     0.53554,     0.53654,     0.53754,     0.53854,     0.53954,     0.54054,     0.54154,     0.54254,     0.54354,     0.54454,     0.54555,     0.54655,     0.54755,     0.54855,     0.54955,     0.55055,     0.55155,\n",
              "           0.55255,     0.55355,     0.55455,     0.55556,     0.55656,     0.55756,     0.55856,     0.55956,     0.56056,     0.56156,     0.56256,     0.56356,     0.56456,     0.56557,     0.56657,     0.56757,     0.56857,     0.56957,     0.57057,     0.57157,     0.57257,     0.57357,     0.57457,     0.57558,\n",
              "           0.57658,     0.57758,     0.57858,     0.57958,     0.58058,     0.58158,     0.58258,     0.58358,     0.58458,     0.58559,     0.58659,     0.58759,     0.58859,     0.58959,     0.59059,     0.59159,     0.59259,     0.59359,     0.59459,      0.5956,      0.5966,      0.5976,      0.5986,      0.5996,\n",
              "            0.6006,      0.6016,      0.6026,      0.6036,      0.6046,     0.60561,     0.60661,     0.60761,     0.60861,     0.60961,     0.61061,     0.61161,     0.61261,     0.61361,     0.61461,     0.61562,     0.61662,     0.61762,     0.61862,     0.61962,     0.62062,     0.62162,     0.62262,     0.62362,\n",
              "           0.62462,     0.62563,     0.62663,     0.62763,     0.62863,     0.62963,     0.63063,     0.63163,     0.63263,     0.63363,     0.63463,     0.63564,     0.63664,     0.63764,     0.63864,     0.63964,     0.64064,     0.64164,     0.64264,     0.64364,     0.64464,     0.64565,     0.64665,     0.64765,\n",
              "           0.64865,     0.64965,     0.65065,     0.65165,     0.65265,     0.65365,     0.65465,     0.65566,     0.65666,     0.65766,     0.65866,     0.65966,     0.66066,     0.66166,     0.66266,     0.66366,     0.66466,     0.66567,     0.66667,     0.66767,     0.66867,     0.66967,     0.67067,     0.67167,\n",
              "           0.67267,     0.67367,     0.67467,     0.67568,     0.67668,     0.67768,     0.67868,     0.67968,     0.68068,     0.68168,     0.68268,     0.68368,     0.68468,     0.68569,     0.68669,     0.68769,     0.68869,     0.68969,     0.69069,     0.69169,     0.69269,     0.69369,     0.69469,      0.6957,\n",
              "            0.6967,      0.6977,      0.6987,      0.6997,      0.7007,      0.7017,      0.7027,      0.7037,      0.7047,     0.70571,     0.70671,     0.70771,     0.70871,     0.70971,     0.71071,     0.71171,     0.71271,     0.71371,     0.71471,     0.71572,     0.71672,     0.71772,     0.71872,     0.71972,\n",
              "           0.72072,     0.72172,     0.72272,     0.72372,     0.72472,     0.72573,     0.72673,     0.72773,     0.72873,     0.72973,     0.73073,     0.73173,     0.73273,     0.73373,     0.73473,     0.73574,     0.73674,     0.73774,     0.73874,     0.73974,     0.74074,     0.74174,     0.74274,     0.74374,\n",
              "           0.74474,     0.74575,     0.74675,     0.74775,     0.74875,     0.74975,     0.75075,     0.75175,     0.75275,     0.75375,     0.75475,     0.75576,     0.75676,     0.75776,     0.75876,     0.75976,     0.76076,     0.76176,     0.76276,     0.76376,     0.76476,     0.76577,     0.76677,     0.76777,\n",
              "           0.76877,     0.76977,     0.77077,     0.77177,     0.77277,     0.77377,     0.77477,     0.77578,     0.77678,     0.77778,     0.77878,     0.77978,     0.78078,     0.78178,     0.78278,     0.78378,     0.78478,     0.78579,     0.78679,     0.78779,     0.78879,     0.78979,     0.79079,     0.79179,\n",
              "           0.79279,     0.79379,     0.79479,      0.7958,      0.7968,      0.7978,      0.7988,      0.7998,      0.8008,      0.8018,      0.8028,      0.8038,      0.8048,     0.80581,     0.80681,     0.80781,     0.80881,     0.80981,     0.81081,     0.81181,     0.81281,     0.81381,     0.81481,     0.81582,\n",
              "           0.81682,     0.81782,     0.81882,     0.81982,     0.82082,     0.82182,     0.82282,     0.82382,     0.82482,     0.82583,     0.82683,     0.82783,     0.82883,     0.82983,     0.83083,     0.83183,     0.83283,     0.83383,     0.83483,     0.83584,     0.83684,     0.83784,     0.83884,     0.83984,\n",
              "           0.84084,     0.84184,     0.84284,     0.84384,     0.84484,     0.84585,     0.84685,     0.84785,     0.84885,     0.84985,     0.85085,     0.85185,     0.85285,     0.85385,     0.85485,     0.85586,     0.85686,     0.85786,     0.85886,     0.85986,     0.86086,     0.86186,     0.86286,     0.86386,\n",
              "           0.86486,     0.86587,     0.86687,     0.86787,     0.86887,     0.86987,     0.87087,     0.87187,     0.87287,     0.87387,     0.87487,     0.87588,     0.87688,     0.87788,     0.87888,     0.87988,     0.88088,     0.88188,     0.88288,     0.88388,     0.88488,     0.88589,     0.88689,     0.88789,\n",
              "           0.88889,     0.88989,     0.89089,     0.89189,     0.89289,     0.89389,     0.89489,      0.8959,      0.8969,      0.8979,      0.8989,      0.8999,      0.9009,      0.9019,      0.9029,      0.9039,      0.9049,     0.90591,     0.90691,     0.90791,     0.90891,     0.90991,     0.91091,     0.91191,\n",
              "           0.91291,     0.91391,     0.91491,     0.91592,     0.91692,     0.91792,     0.91892,     0.91992,     0.92092,     0.92192,     0.92292,     0.92392,     0.92492,     0.92593,     0.92693,     0.92793,     0.92893,     0.92993,     0.93093,     0.93193,     0.93293,     0.93393,     0.93493,     0.93594,\n",
              "           0.93694,     0.93794,     0.93894,     0.93994,     0.94094,     0.94194,     0.94294,     0.94394,     0.94494,     0.94595,     0.94695,     0.94795,     0.94895,     0.94995,     0.95095,     0.95195,     0.95295,     0.95395,     0.95495,     0.95596,     0.95696,     0.95796,     0.95896,     0.95996,\n",
              "           0.96096,     0.96196,     0.96296,     0.96396,     0.96496,     0.96597,     0.96697,     0.96797,     0.96897,     0.96997,     0.97097,     0.97197,     0.97297,     0.97397,     0.97497,     0.97598,     0.97698,     0.97798,     0.97898,     0.97998,     0.98098,     0.98198,     0.98298,     0.98398,\n",
              "           0.98498,     0.98599,     0.98699,     0.98799,     0.98899,     0.98999,     0.99099,     0.99199,     0.99299,     0.99399,     0.99499,       0.996,       0.997,       0.998,       0.999,           1]), array([[   0.023464,    0.023464,    0.034081,    0.042175,    0.049095,    0.055771,    0.061589,    0.067015,    0.072513,    0.077902,    0.082963,    0.087544,    0.091555,    0.095943,     0.10012,     0.10415,     0.10839,     0.11204,     0.11653,      0.1196,      0.1234,     0.12676,      0.1304,\n",
              "            0.13456,     0.13756,     0.14085,     0.14355,     0.14595,     0.14875,     0.15132,     0.15304,     0.15617,     0.15911,     0.16192,     0.16484,     0.16786,     0.17035,     0.17249,      0.1748,     0.17744,     0.18051,     0.18316,     0.18536,     0.18864,     0.19088,     0.19284,\n",
              "            0.19462,      0.1965,     0.19918,      0.2013,     0.20334,      0.2058,     0.20744,     0.20965,     0.21232,     0.21565,     0.21813,     0.22046,     0.22243,      0.2241,     0.22638,     0.22912,     0.23136,     0.23354,     0.23555,     0.23742,     0.23923,     0.24058,     0.24301,\n",
              "             0.2455,     0.24901,     0.25089,     0.25054,     0.25308,     0.25425,      0.2571,     0.25963,     0.26165,     0.26385,     0.26593,     0.26819,      0.2702,     0.27235,     0.27558,     0.27757,     0.28059,      0.2825,     0.28528,      0.2863,     0.28743,     0.28991,       0.292,\n",
              "            0.29314,     0.29475,     0.29658,     0.29672,     0.29862,     0.30109,     0.30158,     0.30301,     0.30602,     0.30905,     0.30929,     0.31081,     0.31252,     0.31344,      0.3148,     0.31574,      0.3171,     0.31893,     0.32238,     0.32383,     0.32468,     0.32586,     0.32803,\n",
              "            0.32954,     0.33154,     0.33229,     0.33347,     0.33455,     0.33703,     0.33778,     0.33897,     0.34236,     0.34374,     0.34489,     0.34713,     0.34956,     0.35088,     0.35322,     0.35618,     0.35863,     0.35948,     0.36121,     0.36369,     0.36597,     0.36759,     0.36708,\n",
              "            0.36918,      0.3702,     0.37216,     0.37344,     0.37573,     0.37696,      0.3778,     0.37931,     0.37956,     0.37938,     0.38084,     0.38202,     0.38313,     0.38422,     0.38544,     0.38669,     0.38736,     0.38698,     0.38717,     0.38834,     0.38976,     0.39205,     0.39378,\n",
              "            0.39576,     0.39753,     0.39957,     0.40044,     0.40329,     0.40385,     0.40537,     0.40644,     0.40738,     0.40933,     0.41169,      0.4135,     0.41482,     0.41644,     0.41721,     0.41923,     0.41963,      0.4208,     0.42161,      0.4244,     0.42447,     0.42773,     0.43072,\n",
              "            0.43125,     0.43314,     0.43387,     0.43528,     0.43692,     0.43909,     0.43932,     0.43921,     0.44152,     0.44309,     0.44688,     0.44874,     0.45016,      0.4521,     0.45341,      0.4551,     0.45664,     0.45856,     0.45948,      0.4604,     0.46349,     0.46655,     0.46919,\n",
              "            0.47073,     0.47398,     0.47348,     0.47582,     0.47628,     0.47587,     0.47631,     0.47607,     0.47694,     0.48316,     0.48383,     0.48565,     0.48843,     0.49411,     0.49562,     0.49781,     0.49897,     0.50118,     0.50164,     0.50296,     0.50614,     0.50631,     0.50602,\n",
              "            0.50646,     0.50611,     0.50646,     0.50841,     0.51006,     0.51354,     0.51353,     0.51427,     0.51529,     0.51663,     0.51896,     0.52013,     0.52434,     0.52329,     0.52584,     0.52801,     0.52829,     0.52796,     0.53079,     0.53107,     0.53147,     0.53513,     0.53629,\n",
              "            0.53656,     0.53607,     0.53752,     0.54117,     0.54109,     0.54322,     0.54559,     0.54666,     0.54618,     0.54733,     0.54858,     0.54983,     0.55114,     0.55156,     0.55199,     0.55221,     0.55175,     0.55239,     0.55543,     0.55684,     0.55666,     0.55715,     0.55534,\n",
              "            0.55665,     0.55859,     0.55992,     0.56182,     0.56341,     0.56377,     0.56766,     0.56849,      0.5681,     0.56871,     0.57021,     0.57179,     0.57289,     0.57479,     0.57515,     0.57661,     0.57697,     0.57829,     0.57831,     0.58186,     0.58235,     0.58499,      0.5857,\n",
              "            0.58673,     0.58688,     0.58781,      0.5885,     0.58898,     0.58968,      0.5902,     0.59089,      0.5928,     0.59184,      0.5932,     0.59724,     0.59846,     0.60238,     0.60191,     0.60248,     0.60498,     0.60313,     0.60333,     0.60405,     0.60806,      0.6079,     0.61254,\n",
              "            0.61312,     0.61582,     0.61664,     0.61771,     0.61734,     0.61837,     0.61686,     0.61557,     0.61507,      0.6151,     0.61641,     0.61592,     0.61901,     0.62032,     0.62094,     0.62323,     0.62418,     0.62624,     0.62981,     0.63097,     0.63077,     0.63338,     0.63461,\n",
              "            0.63413,     0.63651,     0.63654,     0.63628,     0.63601,     0.63804,     0.63731,      0.6382,      0.6406,     0.64357,     0.64436,     0.64387,     0.64608,      0.6482,     0.64986,     0.65135,     0.65336,     0.65398,     0.65499,     0.65596,     0.65538,     0.65405,     0.65494,\n",
              "            0.65487,     0.65738,     0.65569,     0.65791,     0.65702,     0.65885,     0.65929,     0.66106,     0.66176,     0.66259,     0.66401,     0.66494,     0.66806,     0.66909,      0.6686,     0.66794,     0.66883,     0.66961,     0.67028,     0.67095,     0.67171,     0.67116,     0.67583,\n",
              "            0.67647,      0.6771,     0.67784,     0.68156,     0.68267,     0.68221,      0.6816,     0.68306,     0.68333,      0.6828,     0.68419,     0.68516,     0.68406,     0.68758,     0.69107,      0.6928,     0.69227,     0.69331,     0.69391,     0.69284,     0.69466,     0.69572,     0.69592,\n",
              "            0.69714,     0.69894,     0.70109,     0.70539,     0.70363,     0.70394,     0.70553,     0.70628,     0.70703,     0.70839,     0.70578,     0.70654,     0.70731,     0.70683,     0.70597,     0.70549,     0.70488,     0.70483,     0.70756,      0.7135,     0.71241,     0.71379,     0.71586,\n",
              "            0.71634,     0.71586,     0.71406,     0.71442,     0.71524,     0.71606,     0.71723,     0.71848,     0.71973,     0.72098,     0.72515,     0.72668,     0.72824,     0.72951,     0.73073,     0.72998,      0.7349,     0.73443,     0.73629,      0.7368,     0.74393,     0.74682,     0.74699,\n",
              "             0.7484,     0.74858,     0.74695,     0.74646,     0.74849,     0.74752,     0.74937,     0.75451,     0.75551,      0.7565,     0.75509,     0.76015,     0.76002,     0.75905,     0.76019,     0.76173,     0.75912,     0.76429,     0.76723,     0.77045,     0.76861,      0.7697,     0.77079,\n",
              "            0.77002,     0.77167,     0.77304,     0.77255,       0.771,     0.76958,     0.77127,      0.7724,      0.7719,      0.7736,     0.77407,     0.78284,     0.78185,     0.77986,     0.77884,     0.77992,     0.78491,     0.78389,     0.78126,       0.781,     0.78073,     0.78047,     0.78388,\n",
              "            0.78361,     0.78335,     0.78309,     0.78576,     0.78971,     0.78806,     0.78754,     0.78835,     0.79446,     0.79707,     0.80055,     0.80003,      0.7995,     0.79898,     0.79798,     0.80204,     0.80098,     0.80037,     0.80849,     0.80834,     0.80819,     0.80804,     0.80789,\n",
              "            0.80774,     0.80759,     0.80719,     0.80637,      0.8061,     0.80583,     0.80557,     0.80601,      0.8075,       0.809,     0.80927,      0.8082,     0.80712,     0.80602,     0.80727,     0.80823,      0.8106,     0.81817,     0.82385,     0.82316,     0.82262,     0.82168,     0.82059,\n",
              "             0.8217,     0.82339,     0.82508,     0.82436,     0.82326,       0.828,     0.82776,     0.82752,     0.82728,     0.83202,     0.83148,     0.83222,     0.83604,     0.83878,     0.83965,     0.83949,     0.83934,     0.83919,     0.83904,     0.83889,     0.83874,     0.83645,     0.83627,\n",
              "            0.83608,      0.8359,     0.83572,     0.83553,     0.83334,     0.84693,     0.84928,     0.85605,     0.85585,     0.85565,     0.85544,     0.85524,     0.85927,     0.85944,     0.85638,      0.8536,     0.85305,      0.8525,     0.85194,      0.8509,     0.84922,     0.84875,     0.84823,\n",
              "            0.84764,     0.84704,     0.84644,     0.85209,      0.8509,     0.85004,     0.84943,     0.84843,     0.85255,      0.8543,     0.85353,     0.85291,     0.85312,     0.85799,     0.85695,     0.85633,     0.85452,       0.854,     0.85349,     0.86043,     0.86699,     0.87493,     0.87462,\n",
              "            0.87423,     0.87413,     0.87821,     0.88136,     0.88694,     0.88854,     0.88801,      0.8876,     0.88724,     0.88688,     0.88666,     0.88649,     0.88632,     0.88615,     0.88598,     0.88581,     0.88475,     0.88572,      0.8869,     0.88807,     0.88924,     0.89042,     0.89159,\n",
              "            0.89276,     0.89181,     0.89127,     0.88923,      0.8872,     0.88513,     0.89331,     0.88997,     0.88947,     0.88897,     0.88835,     0.88771,     0.88738,     0.88709,      0.8868,     0.88651,     0.89163,      0.8959,     0.89403,     0.89274,     0.88873,      0.8873,     0.88559,\n",
              "            0.88432,     0.88388,     0.88344,     0.88271,     0.87976,     0.87893,     0.87824,     0.87781,     0.87738,     0.87696,     0.88209,     0.88868,     0.88822,     0.88776,     0.88564,     0.88294,     0.89194,     0.89455,     0.89289,     0.89199,     0.89149,       0.891,     0.89046,\n",
              "            0.88974,     0.88903,     0.90061,     0.90821,     0.91429,     0.91768,     0.91674,     0.92252,     0.92889,     0.93163,     0.94736,     0.94698,     0.94659,     0.94638,     0.94629,     0.94619,      0.9461,     0.94601,     0.94592,     0.94583,     0.94574,     0.94565,     0.94556,\n",
              "            0.94547,     0.94353,      0.9488,     0.95499,     0.96119,     0.96081,     0.96047,     0.96015,     0.95989,     0.95968,     0.95947,     0.95926,       0.959,     0.95871,     0.95842,      0.9565,     0.95637,     0.95625,     0.95612,       0.956,     0.95588,     0.95575,     0.95563,\n",
              "            0.95539,     0.95497,     0.95456,     0.95294,     0.95237,     0.95157,     0.95508,     0.96205,     0.96901,     0.97433,      0.9741,     0.97387,     0.97358,     0.97309,     0.97259,     0.97176,     0.97134,     0.97122,     0.97111,     0.97099,     0.97088,     0.97076,     0.97065,\n",
              "            0.97029,     0.96969,     0.96958,     0.96947,     0.96935,     0.96924,     0.96912,     0.96901,      0.9689,     0.96878,      0.9685,     0.96816,     0.96781,     0.96544,     0.96519,     0.96493,     0.96468,     0.96443,     0.96399,     0.96331,     0.96279,     0.96242,     0.96206,\n",
              "            0.96169,     0.96123,     0.96071,     0.96018,     0.95773,      0.9568,      0.9551,     0.95293,     0.95165,     0.95067,     0.94979,     0.94912,     0.94844,     0.94777,     0.94706,     0.94631,     0.94556,     0.94481,     0.94116,     0.94041,     0.93965,      0.9389,     0.93815,\n",
              "            0.93195,     0.92805,     0.92724,     0.92644,     0.92563,     0.92483,     0.92402,     0.92322,     0.92091,     0.91828,     0.91367,     0.90145,     0.89475,     0.88905,     0.88494,     0.88087,      0.8768,     0.87393,       0.872,     0.87007,     0.86815,     0.86622,     0.86429,\n",
              "            0.86237,     0.86044,     0.85851,     0.85433,     0.84456,      0.8348,     0.88172,     0.93866,     0.99561,           1,           1,           1,           1,           1,           1,           1,           1,           1,           1,           1,           1,           1,           1,\n",
              "                  1,           1,           1,           1,           1,           1,           1,           1,           1,           1,           1,           1,           1,           1,           1,           1,           1,           1,           1,           1,           1,           1,           1,\n",
              "                  1,           1,           1,           1,           1,           1,           1,           1,           1,           1,           1,           1,           1,           1,           1,           1,           1,           1,           1,           1,           1,           1,           1,\n",
              "                  1,           1,           1,           1,           1,           1,           1,           1,           1,           1,           1,           1,           1,           1,           1,           1,           1,           1,           1,           1,           1,           1,           1,\n",
              "                  1,           1,           1,           1,           1,           1,           1,           1,           1,           1,           1,           1,           1,           1,           1,           1,           1,           1,           1,           1,           1,           1,           1,\n",
              "                  1,           1,           1,           1,           1,           1,           1,           1,           1,           1,           1,           1,           1,           1,           1,           1,           1,           1,           1,           1,           1,           1,           1,\n",
              "                  1,           1,           1,           1,           1,           1,           1,           1,           1,           1,           1,           1,           1,           1,           1,           1,           1,           1,           1,           1,           1,           1,           1,\n",
              "                  1,           1,           1,           1,           1,           1,           1,           1,           1,           1,           1]]), 'Confidence', 'Precision'], [array([          0,    0.001001,    0.002002,    0.003003,    0.004004,    0.005005,    0.006006,    0.007007,    0.008008,    0.009009,     0.01001,    0.011011,    0.012012,    0.013013,    0.014014,    0.015015,    0.016016,    0.017017,    0.018018,    0.019019,     0.02002,    0.021021,    0.022022,    0.023023,\n",
              "          0.024024,    0.025025,    0.026026,    0.027027,    0.028028,    0.029029,     0.03003,    0.031031,    0.032032,    0.033033,    0.034034,    0.035035,    0.036036,    0.037037,    0.038038,    0.039039,     0.04004,    0.041041,    0.042042,    0.043043,    0.044044,    0.045045,    0.046046,    0.047047,\n",
              "          0.048048,    0.049049,     0.05005,    0.051051,    0.052052,    0.053053,    0.054054,    0.055055,    0.056056,    0.057057,    0.058058,    0.059059,     0.06006,    0.061061,    0.062062,    0.063063,    0.064064,    0.065065,    0.066066,    0.067067,    0.068068,    0.069069,     0.07007,    0.071071,\n",
              "          0.072072,    0.073073,    0.074074,    0.075075,    0.076076,    0.077077,    0.078078,    0.079079,     0.08008,    0.081081,    0.082082,    0.083083,    0.084084,    0.085085,    0.086086,    0.087087,    0.088088,    0.089089,     0.09009,    0.091091,    0.092092,    0.093093,    0.094094,    0.095095,\n",
              "          0.096096,    0.097097,    0.098098,    0.099099,      0.1001,      0.1011,      0.1021,      0.1031,      0.1041,     0.10511,     0.10611,     0.10711,     0.10811,     0.10911,     0.11011,     0.11111,     0.11211,     0.11311,     0.11411,     0.11512,     0.11612,     0.11712,     0.11812,     0.11912,\n",
              "           0.12012,     0.12112,     0.12212,     0.12312,     0.12412,     0.12513,     0.12613,     0.12713,     0.12813,     0.12913,     0.13013,     0.13113,     0.13213,     0.13313,     0.13413,     0.13514,     0.13614,     0.13714,     0.13814,     0.13914,     0.14014,     0.14114,     0.14214,     0.14314,\n",
              "           0.14414,     0.14515,     0.14615,     0.14715,     0.14815,     0.14915,     0.15015,     0.15115,     0.15215,     0.15315,     0.15415,     0.15516,     0.15616,     0.15716,     0.15816,     0.15916,     0.16016,     0.16116,     0.16216,     0.16316,     0.16416,     0.16517,     0.16617,     0.16717,\n",
              "           0.16817,     0.16917,     0.17017,     0.17117,     0.17217,     0.17317,     0.17417,     0.17518,     0.17618,     0.17718,     0.17818,     0.17918,     0.18018,     0.18118,     0.18218,     0.18318,     0.18418,     0.18519,     0.18619,     0.18719,     0.18819,     0.18919,     0.19019,     0.19119,\n",
              "           0.19219,     0.19319,     0.19419,      0.1952,      0.1962,      0.1972,      0.1982,      0.1992,      0.2002,      0.2012,      0.2022,      0.2032,      0.2042,     0.20521,     0.20621,     0.20721,     0.20821,     0.20921,     0.21021,     0.21121,     0.21221,     0.21321,     0.21421,     0.21522,\n",
              "           0.21622,     0.21722,     0.21822,     0.21922,     0.22022,     0.22122,     0.22222,     0.22322,     0.22422,     0.22523,     0.22623,     0.22723,     0.22823,     0.22923,     0.23023,     0.23123,     0.23223,     0.23323,     0.23423,     0.23524,     0.23624,     0.23724,     0.23824,     0.23924,\n",
              "           0.24024,     0.24124,     0.24224,     0.24324,     0.24424,     0.24525,     0.24625,     0.24725,     0.24825,     0.24925,     0.25025,     0.25125,     0.25225,     0.25325,     0.25425,     0.25526,     0.25626,     0.25726,     0.25826,     0.25926,     0.26026,     0.26126,     0.26226,     0.26326,\n",
              "           0.26426,     0.26527,     0.26627,     0.26727,     0.26827,     0.26927,     0.27027,     0.27127,     0.27227,     0.27327,     0.27427,     0.27528,     0.27628,     0.27728,     0.27828,     0.27928,     0.28028,     0.28128,     0.28228,     0.28328,     0.28428,     0.28529,     0.28629,     0.28729,\n",
              "           0.28829,     0.28929,     0.29029,     0.29129,     0.29229,     0.29329,     0.29429,      0.2953,      0.2963,      0.2973,      0.2983,      0.2993,      0.3003,      0.3013,      0.3023,      0.3033,      0.3043,     0.30531,     0.30631,     0.30731,     0.30831,     0.30931,     0.31031,     0.31131,\n",
              "           0.31231,     0.31331,     0.31431,     0.31532,     0.31632,     0.31732,     0.31832,     0.31932,     0.32032,     0.32132,     0.32232,     0.32332,     0.32432,     0.32533,     0.32633,     0.32733,     0.32833,     0.32933,     0.33033,     0.33133,     0.33233,     0.33333,     0.33433,     0.33534,\n",
              "           0.33634,     0.33734,     0.33834,     0.33934,     0.34034,     0.34134,     0.34234,     0.34334,     0.34434,     0.34535,     0.34635,     0.34735,     0.34835,     0.34935,     0.35035,     0.35135,     0.35235,     0.35335,     0.35435,     0.35536,     0.35636,     0.35736,     0.35836,     0.35936,\n",
              "           0.36036,     0.36136,     0.36236,     0.36336,     0.36436,     0.36537,     0.36637,     0.36737,     0.36837,     0.36937,     0.37037,     0.37137,     0.37237,     0.37337,     0.37437,     0.37538,     0.37638,     0.37738,     0.37838,     0.37938,     0.38038,     0.38138,     0.38238,     0.38338,\n",
              "           0.38438,     0.38539,     0.38639,     0.38739,     0.38839,     0.38939,     0.39039,     0.39139,     0.39239,     0.39339,     0.39439,      0.3954,      0.3964,      0.3974,      0.3984,      0.3994,      0.4004,      0.4014,      0.4024,      0.4034,      0.4044,     0.40541,     0.40641,     0.40741,\n",
              "           0.40841,     0.40941,     0.41041,     0.41141,     0.41241,     0.41341,     0.41441,     0.41542,     0.41642,     0.41742,     0.41842,     0.41942,     0.42042,     0.42142,     0.42242,     0.42342,     0.42442,     0.42543,     0.42643,     0.42743,     0.42843,     0.42943,     0.43043,     0.43143,\n",
              "           0.43243,     0.43343,     0.43443,     0.43544,     0.43644,     0.43744,     0.43844,     0.43944,     0.44044,     0.44144,     0.44244,     0.44344,     0.44444,     0.44545,     0.44645,     0.44745,     0.44845,     0.44945,     0.45045,     0.45145,     0.45245,     0.45345,     0.45445,     0.45546,\n",
              "           0.45646,     0.45746,     0.45846,     0.45946,     0.46046,     0.46146,     0.46246,     0.46346,     0.46446,     0.46547,     0.46647,     0.46747,     0.46847,     0.46947,     0.47047,     0.47147,     0.47247,     0.47347,     0.47447,     0.47548,     0.47648,     0.47748,     0.47848,     0.47948,\n",
              "           0.48048,     0.48148,     0.48248,     0.48348,     0.48448,     0.48549,     0.48649,     0.48749,     0.48849,     0.48949,     0.49049,     0.49149,     0.49249,     0.49349,     0.49449,      0.4955,      0.4965,      0.4975,      0.4985,      0.4995,      0.5005,      0.5015,      0.5025,      0.5035,\n",
              "            0.5045,     0.50551,     0.50651,     0.50751,     0.50851,     0.50951,     0.51051,     0.51151,     0.51251,     0.51351,     0.51451,     0.51552,     0.51652,     0.51752,     0.51852,     0.51952,     0.52052,     0.52152,     0.52252,     0.52352,     0.52452,     0.52553,     0.52653,     0.52753,\n",
              "           0.52853,     0.52953,     0.53053,     0.53153,     0.53253,     0.53353,     0.53453,     0.53554,     0.53654,     0.53754,     0.53854,     0.53954,     0.54054,     0.54154,     0.54254,     0.54354,     0.54454,     0.54555,     0.54655,     0.54755,     0.54855,     0.54955,     0.55055,     0.55155,\n",
              "           0.55255,     0.55355,     0.55455,     0.55556,     0.55656,     0.55756,     0.55856,     0.55956,     0.56056,     0.56156,     0.56256,     0.56356,     0.56456,     0.56557,     0.56657,     0.56757,     0.56857,     0.56957,     0.57057,     0.57157,     0.57257,     0.57357,     0.57457,     0.57558,\n",
              "           0.57658,     0.57758,     0.57858,     0.57958,     0.58058,     0.58158,     0.58258,     0.58358,     0.58458,     0.58559,     0.58659,     0.58759,     0.58859,     0.58959,     0.59059,     0.59159,     0.59259,     0.59359,     0.59459,      0.5956,      0.5966,      0.5976,      0.5986,      0.5996,\n",
              "            0.6006,      0.6016,      0.6026,      0.6036,      0.6046,     0.60561,     0.60661,     0.60761,     0.60861,     0.60961,     0.61061,     0.61161,     0.61261,     0.61361,     0.61461,     0.61562,     0.61662,     0.61762,     0.61862,     0.61962,     0.62062,     0.62162,     0.62262,     0.62362,\n",
              "           0.62462,     0.62563,     0.62663,     0.62763,     0.62863,     0.62963,     0.63063,     0.63163,     0.63263,     0.63363,     0.63463,     0.63564,     0.63664,     0.63764,     0.63864,     0.63964,     0.64064,     0.64164,     0.64264,     0.64364,     0.64464,     0.64565,     0.64665,     0.64765,\n",
              "           0.64865,     0.64965,     0.65065,     0.65165,     0.65265,     0.65365,     0.65465,     0.65566,     0.65666,     0.65766,     0.65866,     0.65966,     0.66066,     0.66166,     0.66266,     0.66366,     0.66466,     0.66567,     0.66667,     0.66767,     0.66867,     0.66967,     0.67067,     0.67167,\n",
              "           0.67267,     0.67367,     0.67467,     0.67568,     0.67668,     0.67768,     0.67868,     0.67968,     0.68068,     0.68168,     0.68268,     0.68368,     0.68468,     0.68569,     0.68669,     0.68769,     0.68869,     0.68969,     0.69069,     0.69169,     0.69269,     0.69369,     0.69469,      0.6957,\n",
              "            0.6967,      0.6977,      0.6987,      0.6997,      0.7007,      0.7017,      0.7027,      0.7037,      0.7047,     0.70571,     0.70671,     0.70771,     0.70871,     0.70971,     0.71071,     0.71171,     0.71271,     0.71371,     0.71471,     0.71572,     0.71672,     0.71772,     0.71872,     0.71972,\n",
              "           0.72072,     0.72172,     0.72272,     0.72372,     0.72472,     0.72573,     0.72673,     0.72773,     0.72873,     0.72973,     0.73073,     0.73173,     0.73273,     0.73373,     0.73473,     0.73574,     0.73674,     0.73774,     0.73874,     0.73974,     0.74074,     0.74174,     0.74274,     0.74374,\n",
              "           0.74474,     0.74575,     0.74675,     0.74775,     0.74875,     0.74975,     0.75075,     0.75175,     0.75275,     0.75375,     0.75475,     0.75576,     0.75676,     0.75776,     0.75876,     0.75976,     0.76076,     0.76176,     0.76276,     0.76376,     0.76476,     0.76577,     0.76677,     0.76777,\n",
              "           0.76877,     0.76977,     0.77077,     0.77177,     0.77277,     0.77377,     0.77477,     0.77578,     0.77678,     0.77778,     0.77878,     0.77978,     0.78078,     0.78178,     0.78278,     0.78378,     0.78478,     0.78579,     0.78679,     0.78779,     0.78879,     0.78979,     0.79079,     0.79179,\n",
              "           0.79279,     0.79379,     0.79479,      0.7958,      0.7968,      0.7978,      0.7988,      0.7998,      0.8008,      0.8018,      0.8028,      0.8038,      0.8048,     0.80581,     0.80681,     0.80781,     0.80881,     0.80981,     0.81081,     0.81181,     0.81281,     0.81381,     0.81481,     0.81582,\n",
              "           0.81682,     0.81782,     0.81882,     0.81982,     0.82082,     0.82182,     0.82282,     0.82382,     0.82482,     0.82583,     0.82683,     0.82783,     0.82883,     0.82983,     0.83083,     0.83183,     0.83283,     0.83383,     0.83483,     0.83584,     0.83684,     0.83784,     0.83884,     0.83984,\n",
              "           0.84084,     0.84184,     0.84284,     0.84384,     0.84484,     0.84585,     0.84685,     0.84785,     0.84885,     0.84985,     0.85085,     0.85185,     0.85285,     0.85385,     0.85485,     0.85586,     0.85686,     0.85786,     0.85886,     0.85986,     0.86086,     0.86186,     0.86286,     0.86386,\n",
              "           0.86486,     0.86587,     0.86687,     0.86787,     0.86887,     0.86987,     0.87087,     0.87187,     0.87287,     0.87387,     0.87487,     0.87588,     0.87688,     0.87788,     0.87888,     0.87988,     0.88088,     0.88188,     0.88288,     0.88388,     0.88488,     0.88589,     0.88689,     0.88789,\n",
              "           0.88889,     0.88989,     0.89089,     0.89189,     0.89289,     0.89389,     0.89489,      0.8959,      0.8969,      0.8979,      0.8989,      0.8999,      0.9009,      0.9019,      0.9029,      0.9039,      0.9049,     0.90591,     0.90691,     0.90791,     0.90891,     0.90991,     0.91091,     0.91191,\n",
              "           0.91291,     0.91391,     0.91491,     0.91592,     0.91692,     0.91792,     0.91892,     0.91992,     0.92092,     0.92192,     0.92292,     0.92392,     0.92492,     0.92593,     0.92693,     0.92793,     0.92893,     0.92993,     0.93093,     0.93193,     0.93293,     0.93393,     0.93493,     0.93594,\n",
              "           0.93694,     0.93794,     0.93894,     0.93994,     0.94094,     0.94194,     0.94294,     0.94394,     0.94494,     0.94595,     0.94695,     0.94795,     0.94895,     0.94995,     0.95095,     0.95195,     0.95295,     0.95395,     0.95495,     0.95596,     0.95696,     0.95796,     0.95896,     0.95996,\n",
              "           0.96096,     0.96196,     0.96296,     0.96396,     0.96496,     0.96597,     0.96697,     0.96797,     0.96897,     0.96997,     0.97097,     0.97197,     0.97297,     0.97397,     0.97497,     0.97598,     0.97698,     0.97798,     0.97898,     0.97998,     0.98098,     0.98198,     0.98298,     0.98398,\n",
              "           0.98498,     0.98599,     0.98699,     0.98799,     0.98899,     0.98999,     0.99099,     0.99199,     0.99299,     0.99399,     0.99499,       0.996,       0.997,       0.998,       0.999,           1]), array([[    0.96909,     0.96909,     0.95981,     0.95054,     0.93972,     0.93663,     0.92736,     0.92736,     0.92427,     0.92427,     0.92427,     0.92272,     0.91808,     0.91808,     0.91499,      0.9119,     0.91036,     0.90572,     0.90417,     0.89799,     0.89645,      0.8949,      0.8949,\n",
              "             0.8949,     0.89181,     0.89026,     0.88563,      0.8779,     0.87635,     0.87635,     0.86862,     0.86553,     0.86399,     0.85935,     0.85626,     0.85471,     0.85162,     0.84544,     0.84235,     0.83926,     0.83771,     0.83617,     0.83617,     0.83617,     0.83308,     0.82998,\n",
              "             0.8238,     0.82071,     0.81762,     0.81453,     0.80989,      0.8068,     0.80371,     0.80216,     0.80216,     0.80216,     0.80062,     0.79907,     0.79289,     0.79134,      0.7898,      0.7898,     0.78825,     0.78825,     0.78825,     0.78362,     0.78362,     0.78053,     0.77743,\n",
              "            0.77589,     0.77589,      0.7728,     0.76675,     0.76507,     0.75889,     0.75889,     0.75734,     0.75425,     0.75116,     0.74961,     0.74652,     0.74498,     0.74343,     0.74189,     0.74034,     0.73725,     0.73725,     0.73725,      0.7357,      0.7357,     0.73261,     0.73107,\n",
              "            0.72798,     0.72643,     0.72643,     0.72254,     0.72025,     0.72025,     0.71406,     0.71097,     0.71097,     0.71097,     0.70943,     0.70788,     0.70479,     0.70325,      0.7017,     0.70015,     0.69861,     0.69706,     0.69706,     0.69552,     0.69088,     0.68934,     0.68934,\n",
              "            0.68624,     0.68315,     0.68315,     0.68161,     0.68161,     0.68161,     0.68006,     0.68006,     0.68006,     0.67921,     0.67697,     0.67543,     0.67388,      0.6734,     0.67233,     0.67079,     0.66924,     0.66707,     0.66335,     0.66306,     0.66151,     0.65997,     0.65688,\n",
              "            0.65688,     0.65688,     0.65688,     0.65533,     0.65224,     0.64915,      0.6476,     0.64606,     0.64451,     0.64142,     0.64142,     0.63524,     0.63524,     0.63524,     0.63369,     0.63215,     0.63215,     0.63028,     0.62751,     0.62597,     0.62597,     0.62597,     0.62597,\n",
              "            0.62597,     0.62597,     0.62597,     0.62287,     0.62133,     0.61978,     0.61824,     0.61669,     0.61669,     0.61515,     0.61515,     0.61515,     0.61515,     0.61515,      0.6141,      0.6136,      0.6136,     0.61051,      0.6084,     0.60587,     0.60302,     0.60278,     0.60278,\n",
              "            0.60124,     0.59815,     0.59699,      0.5966,      0.5966,      0.5966,     0.59196,     0.59042,     0.59042,     0.58887,     0.58887,     0.58578,     0.58578,     0.58578,     0.58423,     0.58269,     0.58269,     0.58114,     0.58114,     0.58114,     0.58114,     0.57855,     0.57805,\n",
              "            0.57805,     0.57796,     0.57681,     0.57651,     0.57651,     0.57113,     0.56793,     0.56414,      0.5626,      0.5626,      0.5626,     0.56105,     0.56105,     0.56105,     0.55796,     0.55796,     0.55796,     0.55748,     0.55641,     0.55332,     0.55332,     0.55161,     0.54781,\n",
              "            0.54403,     0.54096,     0.53941,     0.53941,     0.53941,     0.53787,     0.53679,     0.53323,     0.53323,     0.53323,     0.53323,     0.53323,     0.53157,     0.52859,     0.52859,     0.52705,     0.52621,     0.52396,     0.52396,     0.52338,     0.52241,     0.52241,     0.52241,\n",
              "            0.52074,     0.51932,     0.51777,     0.51591,     0.51468,     0.51314,     0.51314,     0.51314,     0.51154,     0.51005,     0.51005,     0.51005,      0.5085,      0.5085,      0.5085,     0.50509,     0.50386,     0.50386,     0.50386,     0.50386,     0.50232,     0.50169,     0.49768,\n",
              "            0.49768,     0.49768,     0.49768,     0.49542,     0.49459,     0.49338,     0.49304,     0.49304,     0.49199,      0.4915,      0.4915,     0.48841,     0.48841,     0.48686,     0.47913,     0.47913,     0.47759,     0.47759,      0.4745,      0.4745,     0.47295,     0.47295,     0.47295,\n",
              "            0.47295,     0.46986,     0.46986,     0.46861,     0.46832,     0.46832,     0.46832,     0.46832,     0.46832,     0.46522,     0.46522,     0.46522,     0.46368,     0.46363,     0.46272,     0.46213,     0.46213,     0.45802,      0.4575,      0.4575,     0.45559,     0.45286,     0.45204,\n",
              "            0.45131,     0.45131,     0.44977,     0.44977,     0.44883,     0.44578,     0.44294,     0.44053,      0.4396,     0.43895,     0.43713,     0.43623,     0.43586,     0.43586,     0.43586,     0.43431,     0.43431,     0.43122,     0.43122,     0.43122,     0.43039,     0.42968,     0.42951,\n",
              "            0.42813,     0.42813,     0.42769,      0.4272,     0.42671,     0.42503,     0.42349,     0.42195,     0.42195,      0.4204,     0.42006,     0.41916,     0.41886,     0.41886,     0.41886,     0.41577,     0.41577,     0.41481,     0.41422,     0.41256,     0.41151,     0.40909,     0.40804,\n",
              "            0.40495,      0.4034,     0.39876,     0.39832,     0.39674,     0.39567,     0.39413,     0.39413,     0.39413,     0.39413,     0.39413,     0.39261,     0.39104,     0.39104,     0.38978,     0.38863,     0.38794,     0.38485,     0.38485,     0.38485,     0.38266,     0.38022,     0.38022,\n",
              "            0.38022,     0.38022,     0.38022,     0.38022,     0.38022,     0.37825,     0.37719,     0.37641,     0.37353,     0.37249,     0.37168,     0.36998,     0.36811,     0.36785,     0.36648,     0.36631,     0.36476,     0.36476,      0.3644,     0.36167,     0.36167,     0.36167,     0.36012,\n",
              "            0.36012,     0.36012,     0.36012,     0.36012,     0.35593,      0.3528,     0.35085,     0.35085,     0.35085,     0.34917,     0.34467,     0.34467,     0.34467,     0.34284,     0.34141,     0.34062,     0.33963,     0.33849,     0.33539,     0.33488,      0.3323,      0.3323,      0.3323,\n",
              "            0.33177,     0.33098,     0.32807,     0.32767,     0.32767,     0.32767,     0.32767,     0.32767,     0.32767,     0.32767,     0.32622,     0.32463,     0.32305,     0.32303,     0.32297,     0.32148,     0.32135,     0.31994,     0.31934,     0.31839,     0.31685,     0.31459,     0.31376,\n",
              "            0.31376,     0.31293,     0.31023,     0.30944,     0.30817,     0.30659,     0.30501,     0.30294,     0.30294,     0.30294,     0.30021,     0.29985,     0.29859,     0.29701,     0.29675,     0.29675,     0.29225,     0.29067,     0.29057,     0.29057,     0.28748,     0.28748,     0.28748,\n",
              "            0.28439,     0.28439,     0.28428,     0.28349,     0.28101,     0.27821,     0.27821,       0.278,     0.27721,     0.27463,     0.27357,     0.27301,     0.27143,      0.2683,     0.26671,     0.26584,     0.26509,      0.2635,     0.25945,     0.25906,     0.25866,     0.25826,     0.25787,\n",
              "            0.25747,     0.25708,     0.25668,     0.25657,     0.25539,     0.25287,     0.25208,     0.24755,     0.24575,     0.24283,     0.24195,     0.24116,     0.24037,     0.23958,     0.23802,     0.23796,     0.23638,     0.23493,     0.23491,     0.23468,     0.23445,     0.23423,       0.234,\n",
              "            0.23377,     0.23355,     0.23294,     0.23172,     0.23132,     0.23093,     0.23053,     0.23029,     0.23029,     0.23029,     0.22954,     0.22795,     0.22637,     0.22479,     0.22011,     0.21947,     0.21947,     0.21793,     0.21686,     0.21583,     0.21504,     0.21366,     0.21207,\n",
              "            0.21175,     0.21175,     0.21175,     0.21037,     0.20879,     0.20833,     0.20798,     0.20763,     0.20728,     0.20669,      0.2059,     0.20247,     0.20247,     0.20247,     0.20233,      0.2021,     0.20187,     0.20165,     0.20142,     0.20119,     0.20097,     0.19762,     0.19736,\n",
              "            0.19709,     0.19683,     0.19656,      0.1963,     0.19322,      0.1932,      0.1932,     0.19302,     0.19271,     0.19239,     0.19207,     0.19176,     0.19165,       0.189,     0.18433,     0.18024,     0.17945,     0.17866,     0.17787,     0.17641,      0.1741,     0.17347,     0.17277,\n",
              "            0.17197,     0.17118,     0.17039,     0.16918,      0.1676,     0.16647,     0.16568,     0.16439,     0.16383,     0.16312,     0.16212,     0.16133,      0.1592,     0.15875,     0.15741,     0.15661,     0.15433,      0.1537,     0.15307,     0.15301,     0.15147,     0.15147,     0.15095,\n",
              "            0.15042,     0.14992,     0.14992,     0.14838,     0.14838,     0.14786,     0.14707,     0.14646,     0.14593,     0.14541,      0.1451,     0.14485,     0.14461,     0.14437,     0.14412,     0.14388,     0.14238,     0.14219,     0.14219,     0.14219,     0.14219,     0.14219,     0.14219,\n",
              "            0.14219,     0.14015,     0.13936,     0.13649,     0.13373,       0.131,     0.12942,     0.12501,     0.12438,     0.12375,     0.12298,     0.12219,     0.12179,     0.12144,     0.12108,     0.12073,     0.12056,     0.11972,     0.11736,     0.11578,      0.1111,     0.10952,     0.10768,\n",
              "            0.10634,     0.10589,     0.10544,     0.10469,     0.10178,     0.10099,     0.10033,    0.099936,    0.099539,    0.099143,    0.098918,    0.098712,    0.098259,    0.097807,    0.095762,    0.092736,    0.092736,    0.091782,    0.090198,     0.08935,    0.088897,    0.088445,    0.087949,\n",
              "           0.087315,    0.086682,    0.086553,    0.086553,    0.086553,    0.086149,    0.085093,    0.085008,    0.085008,    0.084247,    0.083451,    0.082818,    0.082184,    0.081833,    0.081689,    0.081545,    0.081401,    0.081257,    0.081113,    0.080969,    0.080825,    0.080681,    0.080537,\n",
              "           0.080393,    0.077484,     0.07728,     0.07728,     0.07728,    0.075784,     0.07512,    0.074487,    0.073979,    0.073583,    0.073187,    0.072791,    0.072312,    0.071784,    0.071255,    0.067964,    0.067766,    0.067568,     0.06737,    0.067172,    0.066974,    0.066776,    0.066578,\n",
              "           0.066202,    0.065568,    0.064934,    0.062602,    0.061805,    0.060749,    0.060278,    0.060278,    0.060278,    0.058659,    0.058131,    0.057602,    0.056962,    0.055905,    0.054849,    0.053188,    0.052381,     0.05217,    0.051959,    0.051748,    0.051537,    0.051325,    0.051114,\n",
              "           0.050496,    0.049456,    0.049269,    0.049083,    0.048896,     0.04871,    0.048524,    0.048337,    0.048151,    0.047965,     0.04753,    0.047002,    0.046474,    0.043178,    0.042861,    0.042544,    0.042227,    0.041911,    0.041388,    0.040595,    0.039994,    0.039598,    0.039202,\n",
              "           0.038806,    0.038334,    0.037805,    0.037277,    0.035031,    0.034239,    0.032891,    0.031306,    0.030436,    0.029802,    0.029243,    0.028847,    0.028451,    0.028055,    0.027658,    0.027262,    0.026866,     0.02647,    0.024723,    0.024406,     0.02409,    0.023773,    0.023456,\n",
              "            0.02119,    0.019945,    0.019718,    0.019492,    0.019266,    0.019039,    0.018813,    0.018587,    0.018025,    0.017391,     0.01639,    0.014156,     0.01318,    0.012388,    0.011925,    0.011473,     0.01102,    0.010726,     0.01056,    0.010393,    0.010226,    0.010059,   0.0098925,\n",
              "          0.0097257,    0.009559,   0.0093922,   0.0090907,    0.008457,   0.0078233,    0.007728,    0.007728,    0.007728,    0.007533,   0.0073218,   0.0071106,   0.0068993,   0.0066881,   0.0064769,   0.0062656,   0.0061493,   0.0060946,     0.00604,   0.0059854,   0.0059308,   0.0058761,   0.0058215,\n",
              "          0.0057669,   0.0057122,   0.0056576,    0.005603,   0.0055483,   0.0054937,   0.0054391,   0.0053845,   0.0053298,   0.0052752,   0.0052206,   0.0051659,   0.0051113,   0.0050567,    0.005002,   0.0049474,   0.0048928,   0.0048382,   0.0047835,   0.0047289,   0.0046743,    0.003642,    0.003033,\n",
              "          0.0029626,   0.0028922,   0.0028218,   0.0027514,    0.002681,   0.0026105,   0.0025401,   0.0024697,   0.0023993,   0.0023289,   0.0022585,   0.0021881,   0.0021177,   0.0020472,   0.0019768,   0.0019064,    0.001836,   0.0017656,   0.0016952,   0.0016248,   0.0015544,           0,           0,\n",
              "                  0,           0,           0,           0,           0,           0,           0,           0,           0,           0,           0,           0,           0,           0,           0,           0,           0,           0,           0,           0,           0,           0,           0,\n",
              "                  0,           0,           0,           0,           0,           0,           0,           0,           0,           0,           0,           0,           0,           0,           0,           0,           0,           0,           0,           0,           0,           0,           0,\n",
              "                  0,           0,           0,           0,           0,           0,           0,           0,           0,           0,           0,           0,           0,           0,           0,           0,           0,           0,           0,           0,           0,           0,           0,\n",
              "                  0,           0,           0,           0,           0,           0,           0,           0,           0,           0,           0,           0,           0,           0,           0,           0,           0,           0,           0,           0,           0,           0,           0,\n",
              "                  0,           0,           0,           0,           0,           0,           0,           0,           0,           0,           0]]), 'Confidence', 'Recall']]\n",
              "fitness: np.float64(0.2946611383621674)\n",
              "keys: ['metrics/precision(B)', 'metrics/recall(B)', 'metrics/mAP50(B)', 'metrics/mAP50-95(B)']\n",
              "maps: array([    0.26836])\n",
              "names: {0: 'fire'}\n",
              "plot: True\n",
              "results_dict: {'metrics/precision(B)': np.float64(0.5517518799784805), 'metrics/recall(B)': np.float64(0.5038639876352395), 'metrics/mAP50(B)': np.float64(0.5313507493235594), 'metrics/mAP50-95(B)': np.float64(0.2683622926997905), 'fitness': np.float64(0.2946611383621674)}\n",
              "save_dir: PosixPath('runs/detect/yolov8l_fire_detection')\n",
              "speed: {'preprocess': 0.27537961595942334, 'inference': 10.302650703242467, 'loss': 0.0004046932663141092, 'postprocess': 2.8206583715717057}\n",
              "task: 'detect'"
            ]
          },
          "metadata": {},
          "execution_count": 7
        }
      ]
    },
    {
      "cell_type": "code",
      "source": [],
      "metadata": {
        "id": "fwS9T4Pi-H5K"
      },
      "execution_count": null,
      "outputs": []
    }
  ]
}